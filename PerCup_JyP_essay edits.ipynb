{
 "cells": [
  {
   "cell_type": "markdown",
   "id": "4bf0992e-4ee4-4b87-9be8-dfd61245e6a5",
   "metadata": {},
   "source": [
    "# Using Persistent Cup Products for Dissonance Detection\n",
    "\n",
    "### MSRI-UP 2023\n",
    "\n",
    "Authors: Kimberly Herrera, Martin Martinez, Austin MBaye \n",
    "\n",
    "Date: 07/21/2023"
   ]
  },
  {
   "cell_type": "code",
   "execution_count": null,
   "id": "22d2eb0e-f21e-481d-b3c4-df6e67584b02",
   "metadata": {},
   "outputs": [],
   "source": [
    "#import important libraries \n",
    "import time\n",
    "import wave\n",
    "import tadasets\n",
    "import numpy as np\n",
    "from ripser import ripser\n",
    "from scipy.io import wavfile\n",
    "from persim import plot_diagrams\n",
    "from IPython.display import Audio\n",
    "from matplotlib.pyplot import show\n",
    "from itertools import combinations\n",
    "from sklearn.cluster import KMeans\n",
    "from matplotlib import pyplot as plt\n",
    "from scipy.interpolate import CubicSpline\n",
    "from scipy.fft import fft, fftfreq, fftshift\n",
    "from sklearn.metrics import pairwise_distances\n",
    "from IPython.display import display, Audio, FileLink\n",
    "%matplotlib inline"
   ]
  },
  {
   "cell_type": "markdown",
   "id": "cf963f9b-d6cf-4210-8296-44cb3baf10e0",
   "metadata": {},
   "source": [
    "### Goal\n",
    "We want to take a time series $f$, and detect any quasiperiodic behavior. To do this, we present the following algorithm that takes the two highest points in $H_1$ in the persistence diagram of the Rips filtration on the sliding window point cloud of $f$, takes the cup product between them, and plots the product on the diagram. Should this new point be highly persistent, then the time series is quasiperiodic. The motivation behind this is that quasiperiodic functions produce point clouds that are dense in tori, so we want their persistence diagram to \"match\" that of a torus with the addition of the cup product to confirm that the function has the correct structure."
   ]
  },
  {
   "cell_type": "markdown",
   "id": "dbcc3009-737c-4e67-b067-8fe7f4cb33ed",
   "metadata": {},
   "source": [
    "We will apply this algorithm on music to detect dissonance. This will work because when you have dissonance, the frequencies of the music notes are linearly independent of each other so you get a quasiperiodic signal."
   ]
  },
  {
   "cell_type": "markdown",
   "id": "1af0cfd2-53be-4660-b320-971bb30dbeb1",
   "metadata": {},
   "source": [
    "#### For the next cell, put your volume up!"
   ]
  },
  {
   "cell_type": "code",
   "execution_count": null,
   "id": "3cf740fb-7545-4c7d-859d-cddb1fcc478b",
   "metadata": {
    "scrolled": false
   },
   "outputs": [],
   "source": [
    "wav_file = '0 noise.wav' #replace with the path on your machine\n",
    "\n",
    "# Display the audio player\n",
    "Audio(wav_file)"
   ]
  },
  {
   "cell_type": "markdown",
   "id": "9207d40a",
   "metadata": {},
   "source": [
    "Here, we load in a sample of the noise file and convert it to a time series."
   ]
  },
  {
   "cell_type": "code",
   "execution_count": null,
   "id": "f40cd87f-a03e-4f7f-bd8b-08476375995d",
   "metadata": {},
   "outputs": [],
   "source": [
    "file_path = '0 noise.wav' #replace with the path on your machine\n",
    "sample_rate, audio_data = wavfile.read(file_path)\n",
    "\n",
    "# Define start and end times (in seconds)\n",
    "start_time = 0.0\n",
    "end_time = 0.1\n",
    "\n",
    "# Convert the time values to corresponding sample indices\n",
    "start_index = int(start_time * sample_rate)\n",
    "end_index = int(end_time * sample_rate)\n",
    "\n",
    "# Trim the audio data array\n",
    "audio_data = audio_data[start_index:end_index]\n",
    "\n",
    "# Normalize audio\n",
    "audio_data = audio_data / np.max(audio_data)\n",
    "\n",
    "# Convert stereo to mono\n",
    "if audio_data.ndim > 1:\n",
    "    audio_data = audio_data.mean(axis=1)\n",
    "duration = (len(audio_data) / sample_rate) * 1000\n",
    "real_time = np.linspace(0, duration, len(audio_data))"
   ]
  },
  {
   "cell_type": "markdown",
   "id": "85deb2d8-454a-4586-a090-0dcad2927578",
   "metadata": {},
   "source": [
    "#### What does this time series look like?"
   ]
  },
  {
   "cell_type": "code",
   "execution_count": null,
   "id": "3dadc0d9-72f7-45e2-b363-13abef314ee4",
   "metadata": {},
   "outputs": [],
   "source": [
    "plt.figure(figsize = (14,2))\n",
    "plt.plot(real_time, audio_data);"
   ]
  },
  {
   "cell_type": "markdown",
   "id": "359237db-37d5-4d43-bb36-446883e2556f",
   "metadata": {},
   "source": [
    "### Step 1: Function &#8594; Point Cloud\n",
    "When applying sliding windows to a time series, a window of fixed size slides along the data, and the points within the window are collected to form a point cloud. The embedding dimension ($d$) refers to the number of dimensions/features used to represent each point in the sliding window. The time delay ($\\tau$) specifies the time lag between the starting positions of adjacent windows. The delay can be thought of as the step size used to slide the window along the data. We want to optimize the values of $d$ and $\\tau$ before applying sliding windows."
   ]
  },
  {
   "cell_type": "markdown",
   "id": "58ba1c18-3361-408d-aa37-06035bd4ddb3",
   "metadata": {},
   "source": [
    "##### Finding $d$ : \n",
    "We want to compute a Fast Fourier Transform (FFT). This takes a series given by amplitude vs. time and returns it as amplitude vs. frequency, that way we can determine which frequency peaks in the time series are the strongest. The number of prominent peaks is what determines $d$."
   ]
  },
  {
   "cell_type": "code",
   "execution_count": null,
   "id": "e3295f8b-c3d0-43f8-8c57-a0f2ab6414f3",
   "metadata": {},
   "outputs": [],
   "source": [
    "# Perform FFT\n",
    "fft_result = np.fft.fft(audio_data)\n",
    "\n",
    "# Compute the frequencies corresponding to the FFT result\n",
    "sample_rate = 1 / (real_time[1] - real_time[0])  # Sampling rate\n",
    "frequencies = np.fft.fftfreq(len(audio_data), 1 / sample_rate)\n",
    "\n",
    "plt.plot(frequencies * 1000, np.abs(fft_result))\n",
    "plt.xlabel('Frequency')\n",
    "plt.ylabel('Amplitude')\n",
    "plt.xlim([-2000, 2000])\n",
    "plt.show()"
   ]
  },
  {
   "cell_type": "markdown",
   "id": "719e8823-948e-4e37-9193-13dcaecc05a3",
   "metadata": {},
   "source": [
    "How many peaks do you see? "
   ]
  },
  {
   "cell_type": "code",
   "execution_count": null,
   "id": "c504faa3-aabe-4caa-aa35-30cd812cc147",
   "metadata": {},
   "outputs": [],
   "source": [
    "d = 4 #put the number of peaks here"
   ]
  },
  {
   "cell_type": "markdown",
   "id": "45b217c1",
   "metadata": {},
   "source": [
    "Now, we take the result of our FFT and sort it so that the frequencies with the strongest peaks are listed first."
   ]
  },
  {
   "cell_type": "code",
   "execution_count": null,
   "id": "90d9bfd7-7dd3-4e50-814a-fb224ee5842a",
   "metadata": {},
   "outputs": [],
   "source": [
    "unsorted_fft = []\n",
    "for i in range(len(frequencies)):\n",
    "    if frequencies[i] * 1000 >= 0:\n",
    "        pair = (frequencies[i] * 1000, np.abs(fft_result)[i])\n",
    "        unsorted_fft.append(pair)\n",
    "fft_array = sorted(unsorted_fft, key=lambda x: x[1], reverse=True) #find strongest frequency"
   ]
  },
  {
   "cell_type": "markdown",
   "id": "8d3bdf22-d7ee-4192-bdcb-a6443e3330a5",
   "metadata": {},
   "source": [
    "##### Finding $\\tau$ :\n",
    "We want a $\\tau$ that miminizes the following equation:\n",
    " \n",
    "$\\displaystyle \\Gamma(x) = \\sum_{k \\neq k'} \\left\\vert 1 + e^{ix \\langle k - k', \\omega \\rangle} + \\ldots + e^{ix \\langle k - k', \\omega \\rangle d} \\right\\vert^2$.\n",
    "\n",
    "This sums over every pair of distinct peaks, k and k' are the frequency values of the two distinct prominent peaks. "
   ]
  },
  {
   "cell_type": "markdown",
   "id": "7286fddf",
   "metadata": {},
   "source": [
    "First, we return the frequency locations of the $d$ strongest peaks."
   ]
  },
  {
   "cell_type": "code",
   "execution_count": null,
   "id": "f9acde4e-226f-45b3-a871-d96c5af731b4",
   "metadata": {},
   "outputs": [],
   "source": [
    "prominent_peaks = []\n",
    "\n",
    "for i in range(d):\n",
    "    prominent_peaks.append(fft_array[i][0])\n",
    "\n",
    "prominent_peaks"
   ]
  },
  {
   "cell_type": "markdown",
   "id": "c0516c7d",
   "metadata": {},
   "source": [
    "Then, we define functions that will compute the formula for $\\Gamma$ from above, depending on the value of $d$."
   ]
  },
  {
   "cell_type": "code",
   "execution_count": null,
   "id": "be317bd4-df37-42f7-b483-fec00341ea6b",
   "metadata": {},
   "outputs": [],
   "source": [
    "def tau_lowD(tau):\n",
    "    tau_sum = 0\n",
    "    for i in range(len(prominent_peaks)):\n",
    "        for j in range(i):\n",
    "            re_sum = 0\n",
    "            im_sum = 1\n",
    "            for k in range(d + 1):\n",
    "                re_sum += np.cos((prominent_peaks[i] - prominent_peaks[j]) * tau * k)\n",
    "                im_sum += np.sin((prominent_peaks[i] - prominent_peaks[j]) * tau * k)\n",
    "            tau_sum += (re_sum ** 2) + (im_sum ** 2)\n",
    "    return tau_sum\n",
    "\n",
    "def tau_highD(tau_vals):\n",
    "    sum_array = np.array([])\n",
    "    for tau in tau_vals:\n",
    "        tau_sum = 0\n",
    "        for diff in difference_array:\n",
    "            input_array = np.array([])\n",
    "            input_array = np.append(input_array, diff * tau * d_array)\n",
    "            re_norm = np.sum(np.cos(input_array))\n",
    "            im_norm = np.sum(np.sin(input_array))\n",
    "            tau_sum += re_norm ** 2 + im_norm ** 2\n",
    "        sum_array = np.append(sum_array, tau_sum)\n",
    "    return sum_array"
   ]
  },
  {
   "cell_type": "markdown",
   "id": "2faf0025",
   "metadata": {},
   "source": [
    "Finally, we use these formulas to compute the minimal $\\tau$ value."
   ]
  },
  {
   "cell_type": "code",
   "execution_count": null,
   "id": "21ead206-747a-47a3-85a3-19b5c9501447",
   "metadata": {},
   "outputs": [],
   "source": [
    "tau_vals = np.linspace(0, 1, 30000)\n",
    "\n",
    "if d < 9:\n",
    "    min_sum = np.inf\n",
    "    best_tau = None\n",
    "    for tau in tau_vals:\n",
    "        temp_sum = tau_lowD(tau)\n",
    "        if temp_sum < min_sum:\n",
    "            min_sum = temp_sum\n",
    "            best_tau = tau\n",
    "else:\n",
    "    d_array = np.array([])\n",
    "    for i in range(d + 1):\n",
    "        d_array = np.append(d_array, i)\n",
    "    difference_array = np.array([])\n",
    "    for i in range(len(prominent_peaks)):\n",
    "        for j in range(i):\n",
    "            difference_array = np.append(difference_array, prominent_peaks[i] - prominent_peaks[j])\n",
    "    best_tau = tau_vals[np.argmin(tau_highD(tau_vals))]"
   ]
  },
  {
   "cell_type": "markdown",
   "id": "0cf1c279-9a2a-4df8-8b69-7a885985491c",
   "metadata": {},
   "source": [
    "#### Now that we have all the optimal parameters, we can compute the sliding window point cloud:"
   ]
  },
  {
   "cell_type": "code",
   "execution_count": null,
   "id": "8f6f47a3-4787-41ea-9056-1d6126b5f782",
   "metadata": {},
   "outputs": [],
   "source": [
    "def SW_cloud(f, tau, d, n_data):\n",
    "    # Inputs:\n",
    "    # f : time series -- array of size (2,N) (x and y values) or (1,N) (only y values)\n",
    "    #For simplicity, we will assume that f, our time series is a nested list of two lists, each with x1, x2, ... xn and y1, y2,... and yn respectively.\n",
    "    # tau: delay -- positive real number\n",
    "    # d : gives embedding dimension d+1 -- integer\n",
    "    # n_data : desired number of points in SW point cloud -- intenger\n",
    "    #\n",
    "    # Output:\n",
    "    # SW : sliding window point cloud -- array of size (n_data,  d+1)\n",
    "\n",
    "    #Step 1: turn f into a cubic spline\n",
    "        x_vals = f[0]\n",
    "        y_vals = f[1]\n",
    "        cs = CubicSpline(x_vals, y_vals)\n",
    "\n",
    "\n",
    "    #Step 2: create the t values where to evaluate SW_f\n",
    "        t_vals = np.linspace(np.min(x_vals),np.max(x_vals)-(d*tau),n_data)\n",
    " \n",
    "\n",
    "    #Step 3: evaluate the sliding window point cloud\n",
    "        SW=[]\n",
    "        for t in t_vals:\n",
    "            SW_f_t=cs(t + np.arange(0,d+1)*tau)\n",
    "            SW.append(SW_f_t)\n",
    "        SW=np.array(SW)\n",
    "\n",
    "        return SW"
   ]
  },
  {
   "cell_type": "code",
   "execution_count": null,
   "id": "a817cfbb-5081-4604-8533-20b383ba9972",
   "metadata": {},
   "outputs": [],
   "source": [
    "f = np.array([real_time, audio_data])\n",
    "d = d\n",
    "tau = best_tau\n",
    "n_data = 10000\n",
    "SW_f = SW_cloud(f, tau, d, n_data)"
   ]
  },
  {
   "cell_type": "markdown",
   "id": "9afe7999-288c-4cd2-80d4-4f6ad44580cd",
   "metadata": {},
   "source": [
    "### Step 2: Point Cloud &#8594; Persistence Diagram via Ripser"
   ]
  },
  {
   "cell_type": "markdown",
   "id": "2bde0887-b7d8-48cd-828f-e68f8e5a50a5",
   "metadata": {},
   "source": [
    "Now that we have a point cloud, we want to compute a persistence diagram. The Ripser library we imported at the start does this for us, but let's go over what it does! \n",
    "\n",
    "First we need to compute a Rips filtration on the point cloud:\n",
    "1. Compute the pairwise distance between all points in the cloud.\n",
    "2. Pick a distance threshold $\\alpha$ and connects points that are within $\\alpha$ of each other. This creates new simplices for our simplicial complex.\n",
    "\n",
    " A simplicial complex K, is a set of sets such that (1) if $\\sigma \\in K$, then $0 < \\#(\\sigma) < \\infty$ and (2) if $\\sigma \\in K$, and $\\emptyset \\ne \\tau \\subset \\sigma$, then $\\tau \\in K$.\n",
    " \n",
    "We continue increasing $\\alpha$ until all points in our cloud are connected. As $\\alpha$ increases, simplices of higher dimension are created such as triangles and tetrahedra. Once everything is connected, we're left with a simplicial complex!"
   ]
  },
  {
   "attachments": {
    "0bb9e6b4-5ea1-4120-871c-2fe65296122f.png": {
     "image/png": "[encoded data removed]"
    },
    "fb9c7afe-fd41-4654-822d-9476a82e126f.png": {
     "image/png": "[encoded data removed]"
    }
   },
   "cell_type": "markdown",
   "id": "ad9cf068-907c-4174-ae2d-297a532c07c6",
   "metadata": {},
   "source": [
    "Ripser then takes the simplicial complex and computes the barcode, which consists of intervals representing a topological feature in our data (connected component, hole, etc). The intervals indicate the birth and death of the features as the filtration progresses. The length of an interval represents the feature's persistence. Ripser first constructs the total boundary matrix from the simplicial complex and then reduces it to extract the barcode.\n",
    "\n",
    "This is then visualized as:\n",
    "\n",
    "![image.png](attachment:0bb9e6b4-5ea1-4120-871c-2fe65296122f.png)\n",
    "\n",
    "or as a persistence diagram:\n",
    "\n",
    "![image.png](attachment:fb9c7afe-fd41-4654-822d-9476a82e126f.png)"
   ]
  },
  {
   "cell_type": "markdown",
   "id": "2980fcce-3ff9-4f09-ac8b-1cc16196e421",
   "metadata": {},
   "source": [
    "#### Now lets do this for our time series!"
   ]
  },
  {
   "cell_type": "code",
   "execution_count": null,
   "id": "821c7081-0893-45de-ba52-2349221fe2c5",
   "metadata": {},
   "outputs": [],
   "source": [
    "x = SW_f\n",
    "n_landmarks = 115\n",
    "result = ripser(x, coeff=2, n_perm = n_landmarks, maxdim = 2, do_cocycles=True) \n",
    "diagrams = result['dgms'] #get the persistence diagrams\n",
    "dgm1 = diagrams[1] #persistence diagram for H^1\n",
    "D = result['dperm2all'] #distance matrix"
   ]
  },
  {
   "cell_type": "code",
   "execution_count": null,
   "id": "515b1b3d-338a-494c-a588-ee8ae25a8a7e",
   "metadata": {},
   "outputs": [],
   "source": [
    "plt.figure(figsize = (12,3)) \n",
    "plt.subplot(1,3,1)\n",
    "plot_diagrams(diagrams)\n",
    "x_left, x_right = plt.xlim()\n",
    "y_left, y_right = plt.ylim()"
   ]
  },
  {
   "cell_type": "markdown",
   "id": "ac06dd5e-a516-4bd1-8655-79d6e5611458",
   "metadata": {},
   "source": [
    "No we want to extract all of the cocycles from the persistence diagram. Cocycles are defined:\n",
    "\n",
    "$C^n(K; \\mathbb{F}) = \\{\\varphi:K^{(n)} \\rightarrow \\mathbb{F} \\;\\; \\textit{s.t.} \\;\\;\\#(supp(\\varphi)) < \\infty\\}$,  where $K is a simplicial complex.\n",
    "\n",
    "These are in the kernel of $\\delta^{n+1}$ but not in the image of $\\delta^n$, where \n",
    "\n",
    "$\\delta^n(\\varphi)(\\sigma) = \\displaystyle\\sum_{n=0}^{n+1}(-1)^j\\varphi(\\sigma - \\{x_j\\})$, \n",
    "for $\\varphi \\in C^n(K;\\mathbb{F})$ and $\\sigma \\in K$."
   ]
  },
  {
   "cell_type": "code",
   "execution_count": null,
   "id": "fd54c323-de01-4712-a450-12dfbcf51284",
   "metadata": {},
   "outputs": [],
   "source": [
    "cocycles = result['cocycles'] #all of the cocycles"
   ]
  },
  {
   "cell_type": "markdown",
   "id": "bbfcb983-cd5a-4254-bb2b-ed16cf3e599d",
   "metadata": {},
   "source": [
    "### Step 3: Finding $\\varphi$ and $\\psi$"
   ]
  },
  {
   "cell_type": "markdown",
   "id": "a9f395b6-c2ae-4f11-9a53-224d4b273b46",
   "metadata": {},
   "source": [
    "We now have a bunch of cocycles but we want the 2 most persistent ones. So we give our points in $H_1$ a persistence score:\n",
    "$$\\{b-a: (a, b) \\in dgm_1\\}$$ take the two points with the largest scores and find the cocycles that represent them."
   ]
  },
  {
   "cell_type": "code",
   "execution_count": null,
   "id": "e6e1fbe2-3e86-4395-a6de-cf3342c632a6",
   "metadata": {},
   "outputs": [],
   "source": [
    "#Representative cocycle phi\n",
    "idx1 = np.argmax(dgm1[:, 1] - dgm1[:, 0]) #max persistence score\n",
    "cocycle1 = cocycles[1][idx1] #get the cocycle with that score"
   ]
  },
  {
   "cell_type": "code",
   "execution_count": null,
   "id": "ac963765-a6ac-419d-9b28-7ddee0e84922",
   "metadata": {},
   "outputs": [],
   "source": [
    "#Representative cocycle psi\n",
    "sorted_indices = np.argsort(dgm1[:, 1] - dgm1[:, 0]) \n",
    "idx2 = sorted_indices[-2] #second max persistent score\n",
    "cocycle2 = cocycles[1][idx2] #get the cocycle with that score"
   ]
  },
  {
   "cell_type": "markdown",
   "id": "08e066d1-edf3-47b2-9000-43711ab5f5b3",
   "metadata": {},
   "source": [
    "Now we need to restrict $\\varphi$ (the more persistent one) to the simplices for which $\\psi$ persists!"
   ]
  },
  {
   "cell_type": "code",
   "execution_count": null,
   "id": "c8867498-1cd3-40be-87ee-8318252dea77",
   "metadata": {},
   "outputs": [],
   "source": [
    "#Restrict cocycle1\n",
    "New_cocycle1=[]\n",
    "edges=[]\n",
    "for i in range(len(cocycle1)):\n",
    "        for j in range(len(cocycle2)):\n",
    "            if np.array_equal(cocycle1[i:i-1, :2], cocycle1[i:i+1, :2], cocycle2[j:j+1, :2]):  \n",
    "                New_cocycle1.append(cocycle2[j:j+1])\n",
    "        New_cocycle1.append(cocycle2[i:i+1])        \n",
    "rcocycle1=np.vstack(New_cocycle1)\n",
    "for i in range(len(cocycle1)):\n",
    "        for j in range(len(cocycle2)):\n",
    "            if np.array_equal(cocycle1[i-1:i, :2], cocycle2[j:j+1, :2]):\n",
    "                edges.append(cocycle2[j:j+1])        \n",
    "edges=np.vstack(edges)\n",
    "window_size = d * best_tau * 0.9\n",
    "for i in range(len(rcocycle1)):\n",
    "    found_match = False\n",
    "    for j in range(len(edges)):\n",
    "        if np.array_equal(rcocycle1[i, :2], edges[j, :2]):\n",
    "            found_match = True\n",
    "            break\n",
    "    if not found_match:\n",
    "        rcocycle1[i, -1] = 0"
   ]
  },
  {
   "cell_type": "markdown",
   "id": "05126a28-472e-4fb1-b441-2d41601fe239",
   "metadata": {},
   "source": [
    "We also want the representative cocycles for the triangles in our simplicial complex, this is so that we can compute a cup product."
   ]
  },
  {
   "cell_type": "code",
   "execution_count": null,
   "id": "c8a5eb8c-dc71-4460-ad0b-7ed883453efc",
   "metadata": {},
   "outputs": [],
   "source": [
    "# Finding the representative cocycles for triangles\n",
    "representative_cocycles = []\n",
    "for i in range(len(dgm1)):\n",
    "    birth, death = dgm1[i]\n",
    "    if birth != death:  # ignore points on the diagonal\n",
    "        cocycle = cocycles[1][i]\n",
    "        representative_cocycles.append(cocycle)\n",
    "triangles = []\n",
    "for cocycle in representative_cocycles:\n",
    "    edge_indices = cocycle[:, :2].astype(int)\n",
    "    triangle_vertices = set()\n",
    "    for i, j in edge_indices:\n",
    "        triangle_vertices.add(i)\n",
    "        triangle_vertices.add(j)\n",
    "    triangle_combinations = combinations(triangle_vertices, 3)\n",
    "    for combination in triangle_combinations:\n",
    "        triangles.append(list(combination))\n",
    "t=np.vstack(triangles)"
   ]
  },
  {
   "cell_type": "markdown",
   "id": "65a91b5c-28bd-487e-9654-41d27a675d3c",
   "metadata": {},
   "source": [
    "### Step 4: Taking the Cup Product"
   ]
  },
  {
   "cell_type": "markdown",
   "id": "33b44538-398c-4814-b94c-051e389442ed",
   "metadata": {},
   "source": [
    "A cup product is a binary operation of cocycles defined by\n",
    "$$\\varphi \\cup \\psi(\\{x_0, ..., x_{n+m}\\}) = \\varphi(\\{x_0, \\ldots, x_n\\} \\cdot \\psi(\\{x_n , \\ldots, x_m\\}).$$\n",
    "\n",
    "Since we now have our restricted cocycle $\\varphi|_\\alpha$ and our cocycle $\\psi$, we can take the cup product by computing $\\varphi|_\\alpha(\\{x, y\\}) \\cdot \\psi(\\{y, z\\})$ for every triangle $\\{x, y, z\\}$ in our filtration at $\\alpha$.\n"
   ]
  },
  {
   "cell_type": "code",
   "execution_count": null,
   "id": "e3050d54-d4ac-4d75-a8b2-c59e6bd0e733",
   "metadata": {},
   "outputs": [],
   "source": [
    "def cupProduct(phi, psi, triangleList):\n",
    "    '''Computes the cup product given two cocycles and a list of triangles'''\n",
    "    cupProduct = []\n",
    "    for i in range(len(triangleList)):\n",
    "        phiVal = 0\n",
    "        psiVal = 0\n",
    "        for j in range(len(phi)):\n",
    "            if phi[j][0] == triangleList[i][0] and phi[j][1] == triangleList[i][1]:\n",
    "                phiVal = phi[j][2]\n",
    "                break;\n",
    "        for k in range(len(psi)):\n",
    "            if psi[k][0] == triangleList[i][1] and psi[k][1] == triangleList[i][2]:\n",
    "                psiVal = psi[k][2]\n",
    "                break;\n",
    "        cupProduct.append(phiVal * psiVal)\n",
    "    cupProduct = np.array(cupProduct).T\n",
    "    return cupProduct"
   ]
  },
  {
   "cell_type": "code",
   "execution_count": null,
   "id": "057fbbd3-aa99-42a8-b282-affc04f0abc5",
   "metadata": {},
   "outputs": [],
   "source": [
    "# This cell might take a minute to run, please have patience!\n",
    "\n",
    "cup=cupProduct(rcocycle1,cocycle2, t) # Computes the cup Product\n",
    "cup=np.vstack(cup)"
   ]
  },
  {
   "cell_type": "markdown",
   "id": "faba700c-c969-4744-847e-a44f054c3cac",
   "metadata": {},
   "source": [
    "Now we have our cup product! To plot it on a persistence diagram, however, we need both a birth and death. For the birth, we set it to be the minimum of the births of $\\varphi|_\\alpha$ and $\\psi$. The death, however, requires more work.\n",
    "\n",
    "We need to find the row that makes the following equation not have a solution:\n",
    "\n",
    "$$ \\delta^1 \\cdot x = \\varphi |_\\alpha \\smile \\psi$$\n",
    "\n",
    "This will tell us for which triangle the cup product becomes part of the 1-coboundary (and dies). We have the right side of the equation, so we now need to compute $\\delta^1$."
   ]
  },
  {
   "cell_type": "markdown",
   "id": "3d5801c0-bb49-4bad-9596-8dd7627ab018",
   "metadata": {},
   "source": [
    "### Step 5: Computing the Coboundary Matrix $\\delta^1$"
   ]
  },
  {
   "cell_type": "markdown",
   "id": "3662b78e-fa4e-43a2-bb0e-ac2b52f43d14",
   "metadata": {},
   "source": [
    "First we need to know what are simplices are. We already have the triangles, so we need our vertices and edges."
   ]
  },
  {
   "cell_type": "code",
   "execution_count": null,
   "id": "6ea22e66-a27b-482e-a63b-fc23045e9a5c",
   "metadata": {},
   "outputs": [],
   "source": [
    "edges = []\n",
    "vertices=[]\n",
    "representative_cocycles = []\n",
    "for i in range(len(dgm1)):\n",
    "    birth, death = dgm1[i]\n",
    "    if birth != death:  \n",
    "        cocycle = cocycles[1][i]\n",
    "        representative_cocycles.append(cocycle)\n",
    "for cocycle in representative_cocycles: # Extracting every edge as an array of vertices\n",
    "    edge_indices = cocycle[:, :2].astype(int)\n",
    "    for i, j in edge_indices:\n",
    "        edge = [i, j]\n",
    "        edges.append(edge)\n",
    "for cocycle in representative_cocycles: #Extracting every vertex\n",
    "    vertex_indices = cocycle[:, :1].astype(int)\n",
    "    for i in vertex_indices:\n",
    "        vertices.append(i[0])\n",
    "vertices = list(set(vertices)) # Remove duplicate vertices by converting the list to a set and then back to a list"
   ]
  },
  {
   "cell_type": "markdown",
   "id": "5debcc90-9f5f-4820-a076-26bfa5b8ebca",
   "metadata": {},
   "source": [
    "Now we can compute the total boundary matrix."
   ]
  },
  {
   "cell_type": "code",
   "execution_count": null,
   "id": "900160a8-5819-4d6f-85dc-373a8a2bd038",
   "metadata": {},
   "outputs": [],
   "source": [
    "# This cell might also take a moment to run!\n",
    "\n",
    "ne = len(edges)\n",
    "nt = len(triangles)\n",
    "nv = len(vertices)\n",
    "num_rows= ne+nt+nv\n",
    "num_cols=ne+nt+nv\n",
    "boundary_matrix=np.zeros((num_rows, num_cols), dtype=int)\n",
    "for i,edge in enumerate(edges):\n",
    "    a,b=edge #a and b are the two verticies that make up the edge\n",
    "    for j,vertex in enumerate(vertices):\n",
    "        c=vertex # c is a vertex\n",
    "        if b == c:\n",
    "            boundary_matrix[nv+i,j]=1\n",
    "        if a == c:\n",
    "            boundary_matrix[nv+i,j]=-1\n",
    "for i, triangle in enumerate(triangles):\n",
    "    e,f,g=triangle #e,f,g are verticies in the triangle\n",
    "    for j,edge in enumerate(edges):\n",
    "        h,k=edge \n",
    "        if (h,k) == (e,f):\n",
    "            boundary_matrix[(ne+nv)+i,nv+j]=1\n",
    "        if (h,k) == (f,g):\n",
    "            boundary_matrix[(ne+nv)+i,nv+j]=1\n",
    "        if (h,k) == (e,g):\n",
    "            boundary_matrix[(ne+nv)+i,nv+j]=-1\n",
    "boundary_matrix=boundary_matrix.T"
   ]
  },
  {
   "attachments": {
    "82420fb8-0fcf-42a6-9994-160cfaa6b201.png": {
     "image/png": "[encoded data removed]"
    }
   },
   "cell_type": "markdown",
   "id": "062da4dd-8a5e-45a5-ba9b-2d616763167b",
   "metadata": {},
   "source": [
    "We then take restrict the matrix and take the antitranspose $D^\\perp$ so that we can get $\\delta^1$.\n",
    "\n",
    "![output-onlinepngtools (2).png](attachment:82420fb8-0fcf-42a6-9994-160cfaa6b201.png)"
   ]
  },
  {
   "cell_type": "code",
   "execution_count": null,
   "id": "1aaf2b1c-e188-4bc5-bdc6-0fc5aef80792",
   "metadata": {},
   "outputs": [],
   "source": [
    "#Convert Boundary Matrix into Coboundary\n",
    "restricted_matrix = boundary_matrix[nv:nv + ne, nv + ne:len(boundary_matrix)]\n",
    "coboundary_matrix = np.flip(restricted_matrix).T"
   ]
  },
  {
   "cell_type": "markdown",
   "id": "e2dfb062-8cc9-46f2-b0e4-a62b77f2900f",
   "metadata": {},
   "source": [
    "### Step 5: Finding the Triangle"
   ]
  },
  {
   "cell_type": "markdown",
   "id": "b86a2f4c-64b5-4660-9322-365ff137aeae",
   "metadata": {},
   "source": [
    "Now that we have both sides to our equation, we want to figure out which simplex makes the equation no longer have a solution, as that will tell us the precise moment when $\\varphi|_\\alpha \\smile \\psi$ is no longer a part of the 1-coboundary. To do this, we use a bisection method. First, we need a way to check if a solution exists, which we define below. The function only needs as input the matrix $\\delta^1$ and the vector $\\varphi|_\\alpha \\smile \\psi$, and it returns 0 or 1 depending on if the matrix equation has a solution."
   ]
  },
  {
   "cell_type": "code",
   "execution_count": null,
   "id": "d98c4d3c-030c-47ca-818f-9ee40fa051aa",
   "metadata": {},
   "outputs": [],
   "source": [
    "def check_solution(A, b):\n",
    "    \"\"\"Calculates the rank of the augmented matrix [A | b]\"\"\"\n",
    "    augmented_matrix = np.column_stack((A, b))\n",
    "    rank_A = np.linalg.matrix_rank(A)\n",
    "    rank_augmented = np.linalg.matrix_rank(augmented_matrix)\n",
    "    num_columns = A.shape[1]\n",
    "    num_rows = A.shape[0]\n",
    "    if rank_A == rank_augmented:\n",
    "        if rank_A == num_columns:\n",
    "            return 1\n",
    "        elif rank_A < num_columns:\n",
    "            return 1\n",
    "    else:\n",
    "        if rank_A < rank_augmented:\n",
    "            return 0\n",
    "    return \"Unable to determine the solution status.\""
   ]
  },
  {
   "cell_type": "markdown",
   "id": "2fd77fde",
   "metadata": {},
   "source": [
    "Once we have defined this function, we can implement this bisection method. First, we start by restricting the matrix to its bottom half. Then, we check if that restricted equation has a solution. If it does, then that means that we need to satisfy too few equations for too many variables, so we increase our restriction by halfway. If the restricted equation does not have a solution, we ask another question: would the equation have had a solution if we were to restrict it by one more row? If so, then we've found the row were looking for! If not, then we have too many equations to satisfy for too few variables, so we decrease our restriction by halfway."
   ]
  },
  {
   "cell_type": "code",
   "execution_count": null,
   "id": "5cd7307e-3bff-481b-b14b-f34f906f0e11",
   "metadata": {},
   "outputs": [],
   "source": [
    "def row_detect(A, b):\n",
    "    \"\"\"Finds the first row for which [A | b] has no solution\"\"\"\n",
    "    i_max = len(A) + 1\n",
    "    i_min = 1\n",
    "    i = len(A) // 2\n",
    "    running = True\n",
    "    while running:\n",
    "        sol = check_solution(A[-i:], b[-i:])\n",
    "        if sol == 0:\n",
    "            if check_solution(A[-(i - 1):], b[-(i - 1):]) == 1:\n",
    "                row = len(A) - i\n",
    "                running = False\n",
    "                break;\n",
    "            else:\n",
    "                if i < i_max:\n",
    "                    i_max = i\n",
    "                    i = (i_max + i_min) // 2\n",
    "        if sol == 1:\n",
    "            if i > i_min:\n",
    "                i_min = i\n",
    "                i = (i_max + i_min) // 2\n",
    "            if i == len(A):\n",
    "                row = 0\n",
    "                running = False\n",
    "                break;\n",
    "    return row"
   ]
  },
  {
   "cell_type": "markdown",
   "id": "297058ba-163e-44de-ad05-887e3b21b4f0",
   "metadata": {},
   "source": [
    "With these functions we can find the first row for which our matrix has no solution."
   ]
  },
  {
   "cell_type": "code",
   "execution_count": null,
   "id": "41fc5bd6-d513-4684-8a8f-65cc35bd93ec",
   "metadata": {},
   "outputs": [],
   "source": [
    "detect = row_detect(coboundary_matrix, cup)"
   ]
  },
  {
   "cell_type": "markdown",
   "id": "e0d3612a-ed1c-4a39-81cb-705b6a100ba5",
   "metadata": {},
   "source": [
    "Now that we have a row, we need the triangle corresponding to that row."
   ]
  },
  {
   "cell_type": "code",
   "execution_count": null,
   "id": "45543c59-e6cf-439e-bfca-f7163bee3550",
   "metadata": {},
   "outputs": [],
   "source": [
    "def rowTriangle(r):\n",
    "    value=len(triangles)-r\n",
    "    return triangles[value]\n",
    "    \n",
    "tri=rowTriangle(detect)"
   ]
  },
  {
   "cell_type": "markdown",
   "id": "28a11152-306e-4e01-b63f-83897d7fdfb0",
   "metadata": {},
   "source": [
    " ### Step 6: Finding the $\\alpha$ that introduces the triangle"
   ]
  },
  {
   "cell_type": "markdown",
   "id": "39d99acb-f71f-4e1b-a786-323220aedcc2",
   "metadata": {},
   "source": [
    "We need to find the smallest $\\alpha$ where triangle becomes part of $R_{\\alpha}$. We do this by iterating over increasing values of $\\alpha$ until the triangle is born in our simplicial complex. This will give us the death of the cup product."
   ]
  },
  {
   "cell_type": "code",
   "execution_count": null,
   "id": "ad3afc2d-719f-4a8a-b13c-c0e69778281c",
   "metadata": {},
   "outputs": [],
   "source": [
    "sorted_indices = np.argsort(dgm1[:, 1] - dgm1[:, 0])\n",
    "idx = sorted_indices[-2]\n",
    "h = max(dgm1[idx, 0], dgm1[idx, 0])\n",
    "while h < birth:\n",
    "    new_run = ripser(x, coeff=2, n_perm = n_landmarks, thresh = h, do_cocycles = True)\n",
    "    new_diagrams = new_run['dgms']\n",
    "    new_cocycles = new_run['cocycles']\n",
    "    D = new_run['dperm2all']\n",
    "    new_dgm = new_diagrams[1]\n",
    "    new_representative_cocycles = []\n",
    "    for i in range(len(new_dgm)):\n",
    "        new_coycle = new_cocycles[1][i]\n",
    "        new_representative_cocycles.append(new_coycle)\n",
    "    new_triangles = []\n",
    "    for new_coycle in new_representative_cocycles:\n",
    "        edge_indices = new_coycle[:, :2].astype(int)\n",
    "        new_triangle_vertices = set()\n",
    "        for i, j in edge_indices:\n",
    "            new_triangle_vertices.add(i)\n",
    "            new_triangle_vertices.add(j)\n",
    "        new_triangle_combinations = combinations(new_triangle_vertices, 3)\n",
    "        for combination in new_triangle_combinations:\n",
    "            new_triangles.append(list(combination))\n",
    "    if len(new_triangles) > 0:\n",
    "        new_t=np.vstack(new_triangles)\n",
    "        for k in range(len(new_t)):\n",
    "            if new_t[k][0] == tri[0] and new_t[k][1] == tri[1] and new_t[k][2] == tri[2]:\n",
    "                death=h #Gives the Cohomological death\n",
    "                h = 1000000\n",
    "                break;\n",
    "    h += 0.1"
   ]
  },
  {
   "cell_type": "markdown",
   "id": "d3fbf5b1-4ef0-416d-9266-84fca371ce93",
   "metadata": {},
   "source": [
    "### Step 7: Plot the Cup Product"
   ]
  },
  {
   "cell_type": "markdown",
   "id": "35c1b85e-0b80-420a-b25c-2d48d3d8e6b6",
   "metadata": {},
   "source": [
    "Now that we have both the birth and death of the cup product, we can plot it on the persistence diagram."
   ]
  },
  {
   "cell_type": "code",
   "execution_count": null,
   "id": "cef8dfcf-c2e8-416c-a364-0a7192c6c5ba",
   "metadata": {},
   "outputs": [],
   "source": [
    "#Part 4: Plot the persistence diagram with the new point\n",
    "birth=dgm1[idx2,1] #death of psi but birth of H2 point \n",
    "plot_diagrams(diagrams, show = False)\n",
    "plt.gca().add_patch(plt.Circle((death, birth), 0.05, color='r', fill=False))\n",
    "plt.scatter(death,birth, color='g')\n",
    "plt.title(\"Peristence Diagram\")\n",
    "plt.show()"
   ]
  },
  {
   "cell_type": "markdown",
   "id": "73747619-db03-42c1-90e4-fb6d70866194",
   "metadata": {},
   "source": [
    "### Step 8: Giving the Product a Quasiperiodicity Score"
   ]
  },
  {
   "cell_type": "markdown",
   "id": "e9fb954e-e53a-45a5-8868-2c3d38294e25",
   "metadata": {},
   "source": [
    "We want our cup product to be a new highly persistent feature if the time series is quasiperiodic, but the word \"highly\" introduces subjectivity. We define a score that determines how persistent the product is in relation to the diameter of the point cloud, allowing us to determine if the time series is quasiperiodic or not."
   ]
  },
  {
   "cell_type": "code",
   "execution_count": null,
   "id": "1216d79b-f046-4c25-97db-2bc96e18d3ff",
   "metadata": {},
   "outputs": [],
   "source": [
    "def point_cloud_diameter(points):\n",
    "    # Calculate pairwise distances between points\n",
    "    distances = pairwise_distances(points)\n",
    "\n",
    "    # Find the maximum distance\n",
    "    max_distance = np.max(distances)\n",
    "    \n",
    "    # Scale distance\n",
    "    return max_distance * window_size"
   ]
  },
  {
   "cell_type": "code",
   "execution_count": null,
   "id": "54afaf1b-9dac-45f5-941d-b7960f865550",
   "metadata": {},
   "outputs": [],
   "source": [
    "QPDS = ((birth - death) * 10) / point_cloud_diameter(SW_f)\n",
    "print(\"Quasiperiodicity Score: \" + str(QPDS * 100) + \"%\")"
   ]
  },
  {
   "cell_type": "markdown",
   "id": "eb1e60b6-cd4e-40e6-b83e-ef29cadcd8e6",
   "metadata": {},
   "source": [
    "# Solidifying the Algorithm \n"
   ]
  },
  {
   "cell_type": "markdown",
   "id": "a605ae20-0a64-485e-8e0d-5fea2ede3a4a",
   "metadata": {},
   "source": [
    "We ran our algorithm with a tritone time series that was quasiperiodic. We decided to add noise to the tritone audio to see how it would affect quasiperiodicity detection by our algorithm. We can try 10% and 20% noise."
   ]
  },
  {
   "cell_type": "code",
   "execution_count": null,
   "id": "61612278-d315-45df-a330-5e0e98904fc1",
   "metadata": {},
   "outputs": [],
   "source": [
    "wav_file = 'C:/Users/kimbe/Downloads/10 noise.wav' #replace with the path on your machine\n",
    "\n",
    "# Display the audio player\n",
    "Audio(wav_file)"
   ]
  },
  {
   "cell_type": "code",
   "execution_count": null,
   "id": "341db813-6edb-4925-bb85-4494f0857383",
   "metadata": {},
   "outputs": [],
   "source": [
    "wav_file = 'C:/Users/kimbe/Downloads/20 noise.wav' #replace with the path on your machine\n",
    "\n",
    "# Display the audio player\n",
    "Audio(wav_file)"
   ]
  },
  {
   "cell_type": "code",
   "execution_count": null,
   "id": "156b8f5a",
   "metadata": {},
   "outputs": [],
   "source": [
    "wav_file = 'C:/Users/kimbe/Downloads/30 noise.wav' #replace with the path on your machine\n",
    "\n",
    "# Display the audio player\n",
    "Audio(wav_file)"
   ]
  },
  {
   "cell_type": "markdown",
   "id": "02768575-ba5e-4df9-bef4-1532e7092aa0",
   "metadata": {},
   "source": [
    "We can repeat everything in the notebook using the proper wav file. More noise can be tested to see how much can be added until quasiperiodicity is not detected. In our experience, we have gotten it to work with up to 30% noise. Please note that you will need to increase the number of landmarks, and not every computer can handle it."
   ]
  },
  {
   "cell_type": "markdown",
   "id": "da23b6ff-9d0f-4dc9-960c-d9eb4f0fcc7e",
   "metadata": {},
   "source": [
    "## Looking Foward"
   ]
  },
  {
   "cell_type": "markdown",
   "id": "dc6269cf-c6d4-46bc-9009-8d33fa3ba1e8",
   "metadata": {},
   "source": [
    "Recall that the cohomological birth of our cup product was defined as the minimum of $\\varphi|_\\alpha$ and $\\psi$. However, if we have the following triangulation and simplicial complex, we suspect that the cup product could be born before the birth we defined."
   ]
  },
  {
   "cell_type": "code",
   "execution_count": null,
   "id": "103d78e9-70db-430d-a633-2d25e592e125",
   "metadata": {},
   "outputs": [],
   "source": []
  }
 ],
 "metadata": {
  "kernelspec": {
   "display_name": "Python 3 (ipykernel)",
   "language": "python",
   "name": "python3"
  },
  "language_info": {
   "codemirror_mode": {
    "name": "ipython",
    "version": 3
   },
   "file_extension": ".py",
   "mimetype": "text/x-python",
   "name": "python",
   "nbconvert_exporter": "python",
   "pygments_lexer": "ipython3",
   "version": "3.10.9"
  }
 },
 "nbformat": 4,
 "nbformat_minor": 5
}
