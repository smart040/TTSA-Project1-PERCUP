{
 "cells": [
  {
   "cell_type": "code",
   "execution_count": 1,
   "id": "42562a6e-2840-47c6-b728-3a44a588dc9a",
   "metadata": {},
   "outputs": [
    {
     "name": "stdout",
     "output_type": "stream",
     "text": [
      "Lenth of Filtered Simplical Complex\n",
      "54\n"
     ]
    },
    {
     "name": "stderr",
     "output_type": "stream",
     "text": [
      "/var/folders/40/zmgqdh5124d3j5h3bdpln8m80000gn/T/ipykernel_26960/1008570349.py:12: DeprecationWarning: Since Gudhi 3.2, calling SimplexTree.initialize_filtration is unnecessary.\n",
      "  Rips_simplex_tree_sample.initialize_filtration()\n"
     ]
    }
   ],
   "source": [
    "import numpy as np\n",
    "import gudhi as gd\n",
    "\n",
    "simplices_list = [[0, 1, 3], [0, 1, 7], [0, 2, 4], [0, 2, 6], [0, 3, 6], [0, 4, 7], [1, 2, 5], [1, 2, 8], [1, 3, 5], [1, 7, 8], [2, 4, 8], [2, 5, 6], [3, 4, 5], [3, 4, 8], [3, 6, 8], [4, 5, 7], [5, 6, 7], [6, 7, 8]]\n",
    "\n",
    "# Create the simplex tree\n",
    "Rips_simplex_tree_sample = gd.SimplexTree()\n",
    "for simplex in simplices_list:\n",
    "    Rips_simplex_tree_sample.insert(simplex)\n",
    "\n",
    "# Finalize the simplex tree\n",
    "Rips_simplex_tree_sample.initialize_filtration()\n",
    "\n",
    "rips_list = list(Rips_simplex_tree_sample.get_filtration())\n",
    "\n",
    "# Extract the 0-dimensional simplices (vertices) from the filtered simplex list\n",
    "simplices = [i[0] for i in rips_list]\n",
    "\n",
    "print(\"Lenth of Filtered Simplical Complex\")\n",
    "print(len(simplices))"
   ]
  },
  {
   "cell_type": "code",
   "execution_count": 2,
   "id": "57022ab1",
   "metadata": {},
   "outputs": [
    {
     "name": "stdout",
     "output_type": "stream",
     "text": [
      "Simplex to Alpha:\n",
      "Simplex: (0,), Alpha: 0.0\n",
      "Simplex: (1,), Alpha: 0.0\n",
      "Simplex: (0, 1), Alpha: 0.0\n",
      "Simplex: (2,), Alpha: 0.0\n",
      "Simplex: (0, 2), Alpha: 0.0\n",
      "Simplex: (1, 2), Alpha: 0.0\n",
      "Simplex: (3,), Alpha: 0.0\n",
      "Simplex: (0, 3), Alpha: 0.0\n",
      "Simplex: (1, 3), Alpha: 0.0\n",
      "Simplex: (0, 1, 3), Alpha: 0.0\n",
      "Simplex: (4,), Alpha: 0.0\n",
      "Simplex: (0, 4), Alpha: 0.0\n",
      "Simplex: (2, 4), Alpha: 0.0\n",
      "Simplex: (0, 2, 4), Alpha: 0.0\n",
      "Simplex: (3, 4), Alpha: 0.0\n",
      "Simplex: (5,), Alpha: 0.0\n",
      "Simplex: (1, 5), Alpha: 0.0\n",
      "Simplex: (2, 5), Alpha: 0.0\n",
      "Simplex: (1, 2, 5), Alpha: 0.0\n",
      "Simplex: (3, 5), Alpha: 0.0\n",
      "Simplex: (1, 3, 5), Alpha: 0.0\n",
      "Simplex: (4, 5), Alpha: 0.0\n",
      "Simplex: (3, 4, 5), Alpha: 0.0\n",
      "Simplex: (6,), Alpha: 0.0\n",
      "Simplex: (0, 6), Alpha: 0.0\n",
      "Simplex: (2, 6), Alpha: 0.0\n",
      "Simplex: (0, 2, 6), Alpha: 0.0\n",
      "Simplex: (3, 6), Alpha: 0.0\n",
      "Simplex: (0, 3, 6), Alpha: 0.0\n",
      "Simplex: (5, 6), Alpha: 0.0\n",
      "Simplex: (2, 5, 6), Alpha: 0.0\n",
      "Simplex: (7,), Alpha: 0.0\n",
      "Simplex: (0, 7), Alpha: 0.0\n",
      "Simplex: (1, 7), Alpha: 0.0\n",
      "Simplex: (0, 1, 7), Alpha: 0.0\n",
      "Simplex: (4, 7), Alpha: 0.0\n",
      "Simplex: (0, 4, 7), Alpha: 0.0\n",
      "Simplex: (5, 7), Alpha: 0.0\n",
      "Simplex: (4, 5, 7), Alpha: 0.0\n",
      "Simplex: (6, 7), Alpha: 0.0\n",
      "Simplex: (5, 6, 7), Alpha: 0.0\n",
      "Simplex: (8,), Alpha: 0.0\n",
      "Simplex: (1, 8), Alpha: 0.0\n",
      "Simplex: (2, 8), Alpha: 0.0\n",
      "Simplex: (1, 2, 8), Alpha: 0.0\n",
      "Simplex: (3, 8), Alpha: 0.0\n",
      "Simplex: (4, 8), Alpha: 0.0\n",
      "Simplex: (2, 4, 8), Alpha: 0.0\n",
      "Simplex: (3, 4, 8), Alpha: 0.0\n",
      "Simplex: (6, 8), Alpha: 0.0\n",
      "Simplex: (3, 6, 8), Alpha: 0.0\n",
      "Simplex: (7, 8), Alpha: 0.0\n",
      "Simplex: (1, 7, 8), Alpha: 0.0\n",
      "Simplex: (6, 7, 8), Alpha: 0.0\n"
     ]
    }
   ],
   "source": [
    "# Create a dictionary to map vertices to alpha values so then we dont have to worry about loosing our alpha values\n",
    "vertex_to_alpha = {tuple(rips[0]): rips[1] for rips in rips_list}\n",
    "\n",
    "print(\"Simplex to Alpha:\")\n",
    "for vertex, alpha in vertex_to_alpha.items():\n",
    "    print(f\"Simplex: {vertex}, Alpha: {alpha}\")"
   ]
  },
  {
   "cell_type": "code",
   "execution_count": 4,
   "id": "815aa562",
   "metadata": {},
   "outputs": [
    {
     "name": "stdout",
     "output_type": "stream",
     "text": [
      "27\n",
      "18\n",
      "3\n"
     ]
    }
   ],
   "source": [
    "# Extract the edges [a, b] and triangles [c, d, e] from the simplicial complex\n",
    "edges = []\n",
    "triangles = []\n",
    "vertices=[]\n",
    "\n",
    "for simplex in rips_list:\n",
    "    vertices = simplex[0]\n",
    "    \n",
    "    if len(vertices) == 2:\n",
    "        edges.append(vertices)\n",
    "    elif len(vertices) == 3:\n",
    "        triangles.append(vertices)\n",
    "    else:\n",
    "        vertices.append(vertices)\n",
    "\n",
    "\n",
    "\n",
    "ne = len(edges)\n",
    "nt = len(triangles)\n",
    "nv = len(vertices)\n",
    "\n",
    "print(ne)\n",
    "print(nt)\n",
    "print(nv)\n",
    "\n",
    "\n"
   ]
  },
  {
   "cell_type": "code",
   "execution_count": 5,
   "id": "3ed24d56",
   "metadata": {},
   "outputs": [
    {
     "ename": "NameError",
     "evalue": "name 'num_rows' is not defined",
     "output_type": "error",
     "traceback": [
      "\u001b[0;31m---------------------------------------------------------------------------\u001b[0m",
      "\u001b[0;31mNameError\u001b[0m                                 Traceback (most recent call last)",
      "Cell \u001b[0;32mIn[5], line 1\u001b[0m\n\u001b[0;32m----> 1\u001b[0m boundary_matrix\u001b[38;5;241m=\u001b[39mnp\u001b[38;5;241m.\u001b[39mzeros((\u001b[43mnum_rows\u001b[49m, num_cols), dtype\u001b[38;5;241m=\u001b[39m\u001b[38;5;28mint\u001b[39m)\n\u001b[1;32m      4\u001b[0m \u001b[38;5;66;03m#Split it up and just deal with the edges and verticies first because the triangles are going to zero out, same will happen with the edges and edges and verticies and verticies\u001b[39;00m\n\u001b[1;32m      6\u001b[0m \u001b[38;5;28;01mfor\u001b[39;00m i,edge \u001b[38;5;129;01min\u001b[39;00m \u001b[38;5;28menumerate\u001b[39m(edges):\n",
      "\u001b[0;31mNameError\u001b[0m: name 'num_rows' is not defined"
     ]
    }
   ],
   "source": [
    "boundary_matrix=np.zeros((num_rows, num_cols), dtype=int)\n",
    "\n",
    "\n",
    "#Split it up and just deal with the edges and verticies first because the triangles are going to zero out, same will happen with the edges and edges and verticies and verticies\n",
    "\n",
    "for i,edge in enumerate(edges):\n",
    "    a,b=edge #a and b are the two verticies that make up the edge\n",
    "    for j,vertex in enumerate(vertices):\n",
    "        c=vertex # c d and e are the verticies that make up the triangle\n",
    "        if b == c:\n",
    "            boundary_matrix[nv+i,j]=1\n",
    "        if a == c:\n",
    "            boundary_matrix[nv+i,j]=-1\n",
    "        \n",
    "        \n",
    "#now deal with the edges and verticies\n",
    "for i, triangle in enumerate(triangles):\n",
    "    e,f,g=triangle #e,f,g are verticies in the triangle\n",
    "    for j,edge in enumerate(edges):\n",
    "        h,k=edge\n",
    "        if (h,k) == (e,f):\n",
    "            boundary_matrix[(ne+nv)+i,nv+j]=1\n",
    "        if (h,k) == (f,g):\n",
    "            boundary_matrix[(ne+nv)+i,nv+j]=1\n",
    "        if (h,k) == (e,g):\n",
    "            boundary_matrix[(ne+nv)+i,nv+j]=-1\n",
    "\n",
    "\n",
    "print(\"Boundary Matrix:\")\n",
    "print(boundary_matrix)\n",
    "print(len(boundary_matrix))\n",
    "print(len(boundary_matrix[0]))          \n",
    "        \n",
    "for i in range(len(boundary_matrix)):\n",
    "    print(boundary_matrix[i])\n",
    "\n",
    "\n"
   ]
  },
  {
   "cell_type": "code",
   "execution_count": null,
   "id": "33f1d696",
   "metadata": {},
   "outputs": [],
   "source": []
  },
  {
   "cell_type": "code",
   "execution_count": 32,
   "id": "ea5b4d6e",
   "metadata": {},
   "outputs": [
    {
     "data": {
      "text/plain": [
       "(array([[0, 0, 0, ..., 0, 0, 0],\n",
       "        [0, 0, 0, ..., 0, 0, 0],\n",
       "        [0, 0, 0, ..., 0, 0, 0],\n",
       "        ...,\n",
       "        [0, 0, 0, ..., 0, 0, 0],\n",
       "        [0, 0, 0, ..., 0, 0, 0],\n",
       "        [0, 0, 0, ..., 0, 0, 0]]),\n",
       " array([[1., 0., 0., ..., 0., 0., 0.],\n",
       "        [0., 1., 0., ..., 0., 0., 0.],\n",
       "        [0., 0., 1., ..., 0., 0., 0.],\n",
       "        ...,\n",
       "        [0., 0., 0., ..., 1., 0., 0.],\n",
       "        [0., 0., 0., ..., 0., 1., 0.],\n",
       "        [0., 0., 0., ..., 0., 0., 1.]]))"
      ]
     },
     "execution_count": 32,
     "metadata": {},
     "output_type": "execute_result"
    }
   ],
   "source": [
    "D = coboundary_matrix\n",
    "def reduction_Al(R):\n",
    "    numRows = len(R)\n",
    "    numColumns = len(R[0])\n",
    "    V = np.eye(numRows)\n",
    "    pivotRows, pivotEntries = [[] for i in range (numColumns)], [[] for i in range (numColumns)]\n",
    "\n",
    "    for i in range(numColumns):\n",
    "        h = 0\n",
    "        while (h == 0):\n",
    "            pivotRow = np.inf\n",
    "            for j in range(numRows - 1, -1, -1):\n",
    "                if R[j][i] != 0:\n",
    "                    pivotRow = j\n",
    "                    break;\n",
    "            if pivotRow == np.inf:\n",
    "                pivotEntries[i] = 0\n",
    "            else:\n",
    "                pivotEntries[i] = R[pivotRow][i]\n",
    "            pivotRows[i] = pivotRow\n",
    "            if pivotRow == np.inf or all(pivotRows[k] != pivotRows[i] for k in range(i)):\n",
    "                h = 1\n",
    "                break;\n",
    "            for k in range(i):\n",
    "                if pivotRows[k] == pivotRows[i]:\n",
    "                    c = pivotEntries[i] // pivotEntries[k]\n",
    "                    for l in range(numRows):\n",
    "                        R[l][i] -= c * R[l][k]\n",
    "                        V[l][i] -= c * V[l][k]\n",
    "   # barcode = []\n",
    "    #for i in range (numColumns):\n",
    "       # for k in range(i):\n",
    "           # if (pivotRows[i] == k):\n",
    "               # barcode.append([k + 1, i + 1])\n",
    "               # break;\n",
    "        #else:\n",
    "            #barcode.append([i + 1, np.inf])\n",
    "            #print(f\"[{i + 1}, inf)\")\n",
    "    return R, V\n",
    "reduction_Al(D)\n",
    "#print(reduction_Al(D)[0])\n"
   ]
  },
  {
   "cell_type": "code",
   "execution_count": null,
   "id": "f5a0bc1f",
   "metadata": {},
   "outputs": [],
   "source": []
  }
 ],
 "metadata": {
  "kernelspec": {
   "display_name": "Python 3 (ipykernel)",
   "language": "python",
   "name": "python3"
  },
  "language_info": {
   "codemirror_mode": {
    "name": "ipython",
    "version": 3
   },
   "file_extension": ".py",
   "mimetype": "text/x-python",
   "name": "python",
   "nbconvert_exporter": "python",
   "pygments_lexer": "ipython3",
   "version": "3.8.16"
  }
 },
 "nbformat": 4,
 "nbformat_minor": 5
}
