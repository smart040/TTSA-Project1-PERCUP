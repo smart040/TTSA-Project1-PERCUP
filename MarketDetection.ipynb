{
 "cells": [
  {
   "cell_type": "code",
   "execution_count": 28,
   "id": "d5aa93cb-9d76-4217-b0bd-fa0d3874f3b6",
   "metadata": {},
   "outputs": [],
   "source": [
    "import time\n",
    "import numpy as np\n",
    "import matplotlib.pyplot as plt\n",
    "from ripser import ripser\n",
    "from persim import plot_diagrams\n",
    "import tadasets\n",
    "from itertools import combinations\n",
    "from scipy.interpolate import CubicSpline\n",
    "from matplotlib import pyplot as plt\n",
    "%matplotlib inline"
   ]
  },
  {
   "cell_type": "code",
   "execution_count": 29,
   "id": "55258114-4471-4d69-ba2a-6a8660638567",
   "metadata": {},
   "outputs": [],
   "source": [
    "#Functions used\n",
    "def SW_cloud(f, tau, d, n_data):\n",
    "    x_vals = f[0]\n",
    "    y_vals = f[1]\n",
    "    cs = CubicSpline(x_vals, y_vals)\n",
    "    t_vals = np.linspace(np.min(x_vals), np.max(x_vals)-tau, n_data)\n",
    "    SW = np.zeros((n_data, d+1))\n",
    "    for i, t in enumerate(t_vals):\n",
    "        SW_f_t = cs(t + np.arange(0, d+1) * tau)\n",
    "        SW[i] = SW_f_t\n",
    "    return SW\n",
    "\n",
    "def RestrictedCocycle(cocycle1,cocycle2):\n",
    "    New_cocycle1=[]\n",
    "    edges=[]\n",
    "    for i in range(len(cocycle1)):\n",
    "            for j in range(len(cocycle2)):\n",
    "                if np.array_equal(cocycle1[i:i-1, :2], cocycle1[i:i+1, :2], cocycle2[j:j+1, :2]):  \n",
    "                    New_cocycle1.append(cocycle2[j:j+1])\n",
    "            New_cocycle1.append(cocycle2[i:i+1])        \n",
    "    rcocycle1=np.vstack(New_cocycle1)\n",
    "    for i in range(len(cocycle1)):\n",
    "            for j in range(len(cocycle2)):\n",
    "                if np.array_equal(cocycle1[i-1:i, :2], cocycle2[j:j+1, :2]):\n",
    "                    edges.append(cocycle2[j:j+1])        \n",
    "    if len(edges)!=0:\n",
    "        edges=np.vstack(edges)\n",
    "    else:\n",
    "        edges=edges\n",
    "    for i in range(len(rcocycle1)):\n",
    "        found_match = False\n",
    "        for j in range(len(edges)):\n",
    "            if np.array_equal(rcocycle1[i, :2], edges[j, :2]):\n",
    "                found_match = True\n",
    "                break\n",
    "        if not found_match:\n",
    "            rcocycle1[i, -1] = 0\n",
    "    rcocycle=rcocycle1         \n",
    "    return rcocycle\n",
    "\n",
    "\n",
    "def cupProduct(phi, psi, triangleList): #Compute Cup Product\n",
    "    cupProduct = []\n",
    "    for i in range(len(triangleList)):\n",
    "        phiVal = 0\n",
    "        psiVal = 0\n",
    "        for j in range(len(phi)):\n",
    "            if phi[j][0] == triangleList[i][0] and phi[j][1] == triangleList[i][1]:\n",
    "                phiVal = phi[j][2]\n",
    "                break;\n",
    "        for k in range(len(psi)):\n",
    "            if psi[k][0] == triangleList[i][1] and psi[k][1] == triangleList[i][2]:\n",
    "                psiVal = psi[k][2]\n",
    "                break;\n",
    "        cupProduct.append(phiVal * psiVal)\n",
    "    cupProduct = np.array(cupProduct).T\n",
    "    return cupProduct\n",
    "\n",
    "def reductionAlgorithm(R):\n",
    "    numRows = len(R[0])\n",
    "    V = np.eye(numRows)\n",
    "    pivotRows, pivotEntries = [[] for i in range (numRows)], [[] for i in range (numRows)]\n",
    "    for i in range(numRows):\n",
    "        h = 0\n",
    "        while (h == 0):\n",
    "            pivotRow = np.inf\n",
    "            for j in range(numRows - 1, -1, -1):\n",
    "                if R[j][i] != 0:\n",
    "                    pivotRow = j\n",
    "                    break;\n",
    "            if pivotRow == np.inf:\n",
    "                pivotEntries[i] = 0\n",
    "            else:\n",
    "                pivotEntries[i] = R[pivotRow][i]\n",
    "            pivotRows[i] = pivotRow\n",
    "            if pivotRow == np.inf or all(pivotRows[k] != pivotRows[i] for k in range(i)):\n",
    "                h = 1\n",
    "                break;\n",
    "            for k in range(i):\n",
    "                if pivotRows[k] == pivotRows[i]:\n",
    "                    c = pivotEntries[i] // pivotEntries[k]\n",
    "                    for l in range(numRows):\n",
    "                        R[l][i] -= c * R[l][k]\n",
    "                        V[l][i] -= c * V[l][k]            \n",
    "    return R\n",
    "\n",
    "def checkSolution(A, b):\n",
    "    # Calculate the rank of the augmented matrix [A | b]\n",
    "    augmented_matrix = np.column_stack((A, b))\n",
    "    rank_A = np.linalg.matrix_rank(A)\n",
    "    rank_augmented = np.linalg.matrix_rank(augmented_matrix)\n",
    "    num_columns = A.shape[1]\n",
    "    num_rows = A.shape[0]\n",
    "    if rank_A == rank_augmented:\n",
    "        if rank_A == num_columns:\n",
    "            return 1\n",
    "        elif rank_A < num_columns:\n",
    "            return 1\n",
    "    else:\n",
    "        if rank_A < rank_augmented:\n",
    "            return 0\n",
    "    return \"Unable to determine the solution status.\"\n",
    "\n",
    "def rowDetect(A, b):\n",
    "    iMax = len(A) + 1\n",
    "    iMin = 1\n",
    "    i = len(A) // 2\n",
    "    running = True\n",
    "    while(running):\n",
    "        sol = checkSolution(A[-i:], b[-i:])\n",
    "        if sol == 0:\n",
    "            if checkSolution(A[-(i - 1):], b[-(i - 1):]) == 1:\n",
    "                row = len(A) - i\n",
    "                running = False\n",
    "                break;\n",
    "            else:\n",
    "                if i < iMax:\n",
    "                    iMax = i\n",
    "                    i = (iMax + iMin) // 2\n",
    "        if sol == 1:\n",
    "            if i > iMin:\n",
    "                iMin = i\n",
    "                i = (iMax + iMin) // 2\n",
    "            if i==len(A):\n",
    "                row=-1\n",
    "                running=False\n",
    "                break;\n",
    "    return row+1\n",
    "\n",
    "def rowTriangle(r):\n",
    "    value=len(triangles)-1-r\n",
    "    return triangles[value]\n",
    "\n",
    "def Score(birth,death):\n",
    "    score=abs(birth-death)\n",
    "    return score"
   ]
  },
  {
   "cell_type": "code",
   "execution_count": 33,
   "id": "19909ef5-5680-4887-b436-647d3dc325e5",
   "metadata": {},
   "outputs": [
    {
     "name": "stdout",
     "output_type": "stream",
     "text": [
      "         Date      Open      High       Low     Close\n",
      "0  07/07/2023  4,404.54  4,440.39  4,397.40  4,398.95\n",
      "1  07/06/2023  4,422.62  4,422.62  4,385.05  4,411.59\n",
      "2  07/05/2023  4,442.04  4,454.06  4,436.61  4,446.82\n",
      "3  07/03/2023  4,449.45  4,456.46  4,442.29  4,455.59\n",
      "4  06/30/2023  4,422.44  4,458.48  4,422.44  4,450.38\n",
      "Quasiperiodicity Score: -150.3766197986015%\n",
      "Quasiperiodicity Score: 4.6375284132551835%\n",
      "Quasiperiodicity Score: -99.75925677275877%\n",
      "Quasiperiodicity Score: 100.0%\n",
      "Quasiperiodicity Score: 100.0%\n",
      "Quasiperiodicity Score: 100.0%\n",
      "Quasiperiodicity Score: 100.0%\n",
      "Quasiperiodicity Score: 95.46317650716206%\n",
      "Quasiperiodicity Score: 14.187319761656884%\n",
      "Quasiperiodicity Score: 10.623470933556508%\n",
      "Quasiperiodicity Score: 100.0%\n",
      "Quasiperiodicity Score: -100.26130608687937%\n",
      "Quasiperiodicity Score: 100.0%\n",
      "Quasiperiodicity Score: 100.0%\n",
      "Quasiperiodicity Score: 100.0%\n",
      "Quasiperiodicity Score: 100.0%\n",
      "Quasiperiodicity Score: 94.62391457693428%\n",
      "Quasiperiodicity Score: 100.0%\n"
     ]
    },
    {
     "data": {
      "image/png": "[encoded data removed]",
      "text/plain": [
       "<Figure size 1400x200 with 1 Axes>"
      ]
     },
     "metadata": {},
     "output_type": "display_data"
    }
   ],
   "source": [
    "#S&P\n",
    "import pandas as pd\n",
    "data = pd.read_csv('Download_Data_-_INDEX_US_SP_US_SPX.csv')\n",
    "data.head()\n",
    "print(data.head())\n",
    "data=data['Open']\n",
    "data = [float(element.replace(',', '')) for element in data] \n",
    "data=np.array(data)\n",
    "x_vals = list(range(len(data)))\n",
    "y_vals=data[x_vals]\n",
    "f = np.array([x_vals, y_vals]) \n",
    "d = 4\n",
    "tau = 1.5\n",
    "\n",
    "quasiperiodic_regions=[]\n",
    "# Define sliding window parameters\n",
    "window_size = 75  # Set the window size\n",
    "step_size = 10     # Set the step size (can be adjusted based on your needs)\n",
    "\n",
    "# Iterate with sliding windows\n",
    "for i in range(0, len(y_vals) - window_size + 1, step_size):\n",
    "    window = y_vals[i : i + window_size]\n",
    "    n_data = window_size\n",
    "    # Create the f array for the current window\n",
    "    f_window = np.array([x_vals[i : i + window_size], window])\n",
    "    SW = SW_cloud(f_window, tau, d, n_data)\n",
    "    x=SW\n",
    "    n=200\n",
    "    #Part 1: Get the Cup Product\n",
    "    result = ripser(x, coeff=2, do_cocycles=True)\n",
    "    diagrams = result['dgms']\n",
    "    cocycles = result['cocycles'] #all of the cocycles\n",
    "    D = result['dperm2all'] #distance matrix between the ith and jth points in the data\n",
    "    dgm1 = diagrams[1]\n",
    "    #Representative cocycle phi\n",
    "    idx1 = np.argmax(dgm1[:, 1] - dgm1[:, 0])\n",
    "    cocycle1 = cocycles[1][idx1]\n",
    "    #Representative cocycle psi\n",
    "    sorted_indices = np.argsort(dgm1[:, 1] - dgm1[:, 0])\n",
    "    idx2 = sorted_indices[-2]\n",
    "    cocycle2 = cocycles[1][idx2]\n",
    "    rcocycle=RestrictedCocycle(cocycle1,cocycle2)\n",
    "    representative_cocycles = []\n",
    "    for i in range(len(dgm1)):\n",
    "        birth, death = dgm1[i]\n",
    "        if birth != death:  # ignore points on the diagonal\n",
    "            cocycle = cocycles[1][i]\n",
    "            representative_cocycles.append(cocycle)\n",
    "    triangles = []\n",
    "    for cocycle in representative_cocycles:\n",
    "        edge_indices = cocycle[:, :2].astype(int)\n",
    "        triangle_vertices = set()\n",
    "        for i, j in edge_indices:\n",
    "            triangle_vertices.add(i)\n",
    "            triangle_vertices.add(j)\n",
    "        triangle_combinations = combinations(triangle_vertices, 3)\n",
    "        for combination in triangle_combinations:\n",
    "            triangles.append(list(combination))\n",
    "    t=np.vstack(triangles)\n",
    "    if len(cocycle1) >= len(cocycle2):\n",
    "        cup=cupProduct(rcocycle,cocycle2, t)#Compute the cup Product\n",
    "    else:\n",
    "        cup=cupProduct(rcocycle,cocycle1, t)\n",
    "    cup=np.vstack(cup)\n",
    "    edges = []\n",
    "    vertices=[]\n",
    "    representative_cocycles = []\n",
    "    for i in range(len(dgm1)):\n",
    "        birth, death = dgm1[i]\n",
    "        if birth != death:  \n",
    "            cocycle = cocycles[1][i]\n",
    "            representative_cocycles.append(cocycle)\n",
    "    for cocycle in representative_cocycles: # Extracting every edge as an array of vertices\n",
    "        edge_indices = cocycle[:, :2].astype(int)\n",
    "        for i, j in edge_indices:\n",
    "            edge = [i, j]\n",
    "            edges.append(edge)\n",
    "    for cocycle in representative_cocycles: #Extracting every vertex\n",
    "        vertex_indices = cocycle[:, :1].astype(int)\n",
    "        for i in vertex_indices:\n",
    "            vertices.append(i[0])\n",
    "    vertices = list(set(vertices)) # Remove duplicate vertices by converting the list to a set and then back to a list\n",
    "    ne = len(edges)\n",
    "    nt = len(triangles)\n",
    "    nv = len(vertices)\n",
    "    num_rows= ne+nt+nv\n",
    "    num_cols=ne+nt+nv\n",
    "    boundary_matrix=np.zeros((num_rows, num_cols), dtype=int)\n",
    "    for i,edge in enumerate(edges):\n",
    "        a,b=edge #a and b are the two verticies that make up the edge\n",
    "        for j,vertex in enumerate(vertices):\n",
    "            c=vertex # c is a vertex\n",
    "            if b == c:\n",
    "                boundary_matrix[nv+i,j]=1\n",
    "            if a == c:\n",
    "                boundary_matrix[nv+i,j]=-1\n",
    "    for i, triangle in enumerate(triangles):\n",
    "        e,f,g=triangle #e,f,g are verticies in the triangle\n",
    "        for j,edge in enumerate(edges):\n",
    "            h,k=edge \n",
    "            if (h,k) == (e,f):\n",
    "                boundary_matrix[(ne+nv)+i,nv+j]=1\n",
    "            if (h,k) == (f,g):\n",
    "                boundary_matrix[(ne+nv)+i,nv+j]=1\n",
    "            if (h,k) == (e,g):\n",
    "                boundary_matrix[(ne+nv)+i,nv+j]=-1\n",
    "    boundary_matrix=boundary_matrix.T\n",
    "#Convert Boundary Matrix into Coboundary\n",
    "    restricted_matrix = boundary_matrix[nv:nv + ne, nv + ne:len(boundary_matrix)]\n",
    "    coboundary_matrix = np.flip(restricted_matrix).T\n",
    "    reduce=reductionAlgorithm(coboundary_matrix)\n",
    "    detect=rowDetect(reduce, cup)\n",
    "    tri=rowTriangle(detect)\n",
    "    sorted_indices = np.argsort(dgm1[:, 1] - dgm1[:, 0])\n",
    "    idx2 = sorted_indices[-2]\n",
    "    h = max(dgm1[idx1, 0], dgm1[idx2, 0])\n",
    "    while h < min(dgm1[idx1, 1], dgm1[idx2, 1])+100000:\n",
    "        newRun = ripser(x, coeff=2, thresh = h, do_cocycles = True)\n",
    "        newDiagrams = newRun['dgms']\n",
    "        newCocycles = newRun['cocycles']\n",
    "        D = newRun['dperm2all']\n",
    "        dgmNew = newDiagrams[1]\n",
    "        new_representative_cocycles = []\n",
    "        for i in range(len(dgmNew)):\n",
    "            birth, death = dgmNew[i]\n",
    "            if birth != death:  # ignore points on the diagonal\n",
    "                newCocycle = newCocycles[1][i]\n",
    "                new_representative_cocycles.append(newCocycle)\n",
    "        newTriangles = []\n",
    "        for newCocycle in new_representative_cocycles:\n",
    "            edge_indices = newCocycle[:, :2].astype(int)\n",
    "            new_triangle_vertices = set()\n",
    "            for i, j in edge_indices:\n",
    "                new_triangle_vertices.add(i)\n",
    "                new_triangle_vertices.add(j)\n",
    "            new_triangle_combinations = combinations(new_triangle_vertices, 3)\n",
    "            for combination in new_triangle_combinations:\n",
    "                newTriangles.append(list(combination))\n",
    "        if len(newTriangles) !=0:\n",
    "             t=np.vstack(newTriangles)\n",
    "        for k in range(len(t)):\n",
    "            if t[k][0] == tri[0] and t[k][1] == tri[1] and t[k][2] == tri[2]:\n",
    "                death=h #Gives the Cohomological death \n",
    "                h = 1000000\n",
    "                break;\n",
    "        h += 0.01\n",
    "#Part 4: Plot the persistence diagram with the new point\n",
    "    birth=dgm1[idx2,1] #death of psi but birth of H2 point \n",
    "    phiBirth = dgm1[idx1, 0]\n",
    "    psiBirth = dgm1[idx2, 0]\n",
    "    phiDeath = dgm1[idx1, 1]\n",
    "    psiDeath = dgm1[idx2, 1]\n",
    "    QPDS = (birth - death) / min(phiDeath - phiBirth, psiDeath - psiBirth)\n",
    "    print(f\"Quasiperiodicity Score: \" + str(QPDS * 100) + \"%\")\n",
    "    \n",
    "    if QPDS>0.9:\n",
    "        quasiperiodic_regions.append((i, i + window_size - 1))\n",
    "\n",
    "        \n",
    "# Plot the original data\n",
    "plt.figure(figsize=(14, 2))\n",
    "plt.plot(x_vals, y_vals)\n",
    "plt.xlabel('Days since')\n",
    "plt.ylabel('Price')\n",
    "plt.title('Original Data')\n",
    "        \n",
    "# Plot the identified quasiperiodic regions\n",
    "for region in quasiperiodic_regions:\n",
    "    plt.axvspan(region[0], region[1], color='red', alpha=0.3)\n",
    "\n",
    "plt.show()\n"
   ]
  },
  {
   "cell_type": "code",
   "execution_count": 34,
   "id": "430d2555-21fd-45bd-9917-a7c7465f9665",
   "metadata": {},
   "outputs": [],
   "source": [
    "# from the datasets module of scikit learn, import the load_digits function\n",
    "from sklearn.datasets import load_digits\n",
    "\n",
    "# from scikit learn, import Principal Components Analysis\n",
    "from sklearn.decomposition import PCA\n",
    "\n",
    "import numpy as np\n",
    "\n",
    "import plotly.graph_objects as go\n",
    "from plotly.subplots import make_subplots\n",
    "from matplotlib import pyplot as plt\n",
    "%matplotlib inline"
   ]
  },
  {
   "cell_type": "code",
   "execution_count": 38,
   "id": "0f2bb378",
   "metadata": {},
   "outputs": [
    {
     "data": {
      "image/png": "[encoded data removed]",
      "text/html": [
       "<div style=\"vertical-align: middle;\"><strong>viridis</strong> </div><div class=\"cmap\"><img alt=\"viridis colormap\" title=\"viridis\" style=\"border: 1px solid #555;\" src=\"data:image/png;base64,iVBORw0KGgoAAAANSUhEUgAAAgAAAABACAYAAABsv8+/AAAAFnRFWHRUaXRsZQB2aXJpZGlzIGNvbG9ybWFwrE0mCwAAABx0RVh0RGVzY3JpcHRpb24AdmlyaWRpcyBjb2xvcm1hcAtjl3IAAAAwdEVYdEF1dGhvcgBNYXRwbG90bGliIHYzLjYuMiwgaHR0cHM6Ly9tYXRwbG90bGliLm9yZ3HOVV8AAAAydEVYdFNvZnR3YXJlAE1hdHBsb3RsaWIgdjMuNi4yLCBodHRwczovL21hdHBsb3RsaWIub3JnX2jKeAAAAiJJREFUeJzt1kGSmzAURdEv2FqWkP0vJfQgMhQCGceV2Ttn4pL0EVQPum771X5vVVXVWv39XfrPeV193V5zS98f1sf5/fPjey73zu6/3Hv/uz2cz57f9vP68rxO9+/zre7nhvvG+et6vH92bw3PDfcsD+eX59+/53n96f3362/f87/vf5yr93Of72/fPV9P89tX3zGeH3OT8/07Zs+/32+TuXZZD8/VODf8W5uuH/b7vctlfuv7NazH8/t7ZnP7bz2cD3NL+/Ph3Hl+/efz83vWun/vuL++nquH9eu9w/uu6/vvOO49f/8xf77vOj+8b7Y/fMfse9ca/y7nv+d62a++X+f1vt+G/b7u+/u6TxzzS//tc2053QMABBEAABBIAABAIAEAAIEEAAAEEgAAEEgAAEAgAQAAgQQAAAQSAAAQSAAAQCABAACBBAAABBIAABBIAABAIAEAAIEEAAAEEgAAEEgAAEAgAQAAgQQAAAQSAAAQSAAAQCABAACBBAAABBIAABBIAABAIAEAAIEEAAAEEgAAEEgAAEAgAQAAgQQAAAQSAAAQSAAAQCABAACBBAAABBIAABBIAABAIAEAAIEEAAAEEgAAEEgAAEAgAQAAgQQAAAQSAAAQSAAAQCABAACBBAAABBIAABBIAABAIAEAAIEEAAAEEgAAEEgAAEAgAQAAgQQAAAQSAAAQSAAAQCABAACBBAAABBIAABBIAABAoB9ucImHxcKZtAAAAABJRU5ErkJggg==\"></div><div style=\"vertical-align: middle; max-width: 514px; display: flex; justify-content: space-between;\"><div style=\"float: left;\"><div title=\"#440154ff\" style=\"display: inline-block; width: 1em; height: 1em; margin: 0; vertical-align: middle; border: 1px solid #555; background-color: #440154ff;\"></div> under</div><div style=\"margin: 0 auto; display: inline-block;\">bad <div title=\"#00000000\" style=\"display: inline-block; width: 1em; height: 1em; margin: 0; vertical-align: middle; border: 1px solid #555; background-color: #00000000;\"></div></div><div style=\"float: right;\">over <div title=\"#fde725ff\" style=\"display: inline-block; width: 1em; height: 1em; margin: 0; vertical-align: middle; border: 1px solid #555; background-color: #fde725ff;\"></div></div>"
      ],
      "text/plain": [
       "<matplotlib.colors.ListedColormap at 0x7f8788e4e760>"
      ]
     },
     "execution_count": 38,
     "metadata": {},
     "output_type": "execute_result"
    }
   ],
   "source": [
    "#we can use a color map package to exact only the red portion\n",
    "plt.get_cmap(name=None, lut=None) "
   ]
  },
  {
   "cell_type": "code",
   "execution_count": 24,
   "id": "177bc355",
   "metadata": {},
   "outputs": [
    {
     "name": "stdout",
     "output_type": "stream",
     "text": [
      "Explained Variance [0.89897792 0.09162688 0.00694154]\n"
     ]
    },
    {
     "data": {
      "application/vnd.plotly.v1+json": {
       "config": {
        "plotlyServerURL": "https://plot.ly"
       },
       "data": [
        {
         "marker": {
          "color": "grey",
          "size": 1.5
         },
         "mode": "markers",
         "type": "scatter3d",
         "x": [
          -526.3374670294841,
          -533.2887327547322,
          -540.5088080633997,
          -497.08382773426473,
          -584.3197126582404,
          -548.2852071399511,
          -709.60975272267,
          -685.970284221359,
          -705.5306295174086,
          -656.0547793987486,
          -603.5332293580739,
          -517.2210664581647,
          -497.3652171116581,
          -489.64114903877476,
          -583.6599513036642,
          -619.0271461396237,
          -592.2219479629891,
          -601.2685818568398,
          -582.1470687212935,
          -580.8490444752147,
          -552.5151798360434,
          -507.6635433332376,
          -413.5166567566608,
          -345.5304338458824,
          -332.23819418112026,
          -321.4876229730117,
          -273.7759789385366,
          -239.54828053914508,
          -178.1068221377335,
          -81.4849281532358,
          -48.99580177058468,
          -86.56478061918995,
          -146.88937342238904,
          -195.5780158126191,
          -171.12583258084226,
          -149.92743676321388,
          -168.24243105861777,
          -111.00618487195558,
          -88.09826229728843,
          -39.91480025586676,
          92.67118671927518,
          86.28091113436273,
          84.23789587323144,
          94.16961760340223,
          153.48469183395318,
          227.46505873719963,
          264.4596518880404,
          288.40231163323426,
          304.642853283691,
          293.1647176859814,
          256.83885600091844,
          248.66127967642853,
          200.20375284025897,
          144.63181647947553,
          143.0309243822221,
          96.59999818528892,
          121.20802094367241,
          81.90469207757188,
          69.99022968795956,
          64.43808090149497,
          48.57903699347713,
          -1.1541005182463522,
          -86.02691757084423,
          -127.94015463332711,
          -146.88338878157057,
          -120.5730151017788,
          -140.59930202751937,
          -159.3343028367244,
          -225.873519362259,
          -274.89042779471856,
          -132.2227150692588,
          456.8794421334363,
          1774.820504688457,
          4121.135988054771,
          7803.730488072158
         ],
         "y": [
          -97.5427385581608,
          -172.80712496518728,
          -204.72249791757497,
          -275.3304234282127,
          -285.6835694355754,
          -346.3851393983168,
          -335.30735309961904,
          -376.0868258369112,
          -390.30027012562977,
          -455.3950626485574,
          -510.56274309723636,
          -545.8576937124823,
          -538.0062796463601,
          -485.38449882474106,
          -381.4601235195227,
          -337.99085504135763,
          -330.45101045564536,
          -338.96959721390925,
          -365.8417432795279,
          -413.8943072355497,
          -444.23990175151334,
          -453.4468335266793,
          -433.0217358545067,
          -402.47704702957066,
          -349.50187693920344,
          -273.6668536580957,
          -227.4931063245528,
          -159.6603939001066,
          -111.14103388863228,
          -86.28014043413584,
          -44.229216601964616,
          32.18138457180803,
          109.84907835466548,
          164.92049819056945,
          155.1735524053572,
          147.76450690372542,
          129.6888179278581,
          54.88439767519186,
          44.294228049512974,
          51.32302451447234,
          54.51354578626294,
          150.8893647201444,
          183.0290286994161,
          270.97687586828914,
          307.47528774163817,
          324.61984396812323,
          403.757511221894,
          412.595442742804,
          451.8588251227418,
          510.0347523367668,
          577.0878649581282,
          608.499872833442,
          613.7320559221213,
          602.4645486216666,
          565.2328328130333,
          527.9084641540705,
          463.4797776127537,
          444.6113056297926,
          405.3872218093221,
          377.45980558435485,
          366.35211326875384,
          364.43903840975776,
          365.5273056882491,
          332.1041187451434,
          276.306960036732,
          219.5860329241526,
          174.63005439480332,
          130.2960880375191,
          108.08102132615008,
          96.25900693052473,
          41.03386719268248,
          -118.96199277520739,
          -338.4024623610463,
          -524.8106949346537,
          -464.99617627441353
         ],
         "z": [
          -1.203649709636636,
          35.03098306367592,
          87.98137171903434,
          111.31434885190606,
          14.132646261408965,
          13.27217687538014,
          -71.98295985528543,
          13.675897482689692,
          77.40982289013081,
          109.14997946475114,
          55.0713860872666,
          16.63896648301963,
          -94.72129231895794,
          -145.23391044879304,
          -152.26509359781147,
          -98.604303182807,
          37.94175811017088,
          76.41849212426278,
          61.3348582057115,
          23.485058043756695,
          -31.891571613366466,
          -32.401486391323786,
          -18.457850203321357,
          -42.3331369703329,
          -126.06720488049297,
          -136.5573084465126,
          -106.8110809042308,
          -60.821285053388415,
          -38.63426827473926,
          -10.11087666451695,
          -84.39855472309401,
          -145.75303719138327,
          -136.99597326102202,
          -67.98150080494224,
          39.82546116085172,
          111.00493215214772,
          56.27786463029722,
          36.481499609443745,
          -25.468120523004238,
          -45.405934712463115,
          -9.56131904362515,
          -90.90470895965942,
          -135.17648583410573,
          -118.44445303390813,
          -31.62979223880188,
          -15.7242897021505,
          4.34883184364606,
          -70.12344594431453,
          -98.24613700738865,
          -91.24875609884256,
          -61.457366407759665,
          0.46812607494953795,
          17.277128275493546,
          30.923407789399096,
          72.62041446897308,
          69.83686329531152,
          73.10223863125665,
          50.29559383343679,
          23.461065758962363,
          14.587191284421959,
          21.788572473527346,
          2.171786270349781,
          1.5181229108842587,
          35.69984889595237,
          84.22913582110118,
          117.19340666533259,
          84.78824851783011,
          16.508764172775138,
          -24.408041546013543,
          -25.26558650893429,
          94.72471243240396,
          261.6903094932249,
          369.7196757769435,
          249.15217857952973,
          -226.26234442471423
         ]
        }
       ],
       "layout": {
        "scene": {
         "aspectmode": "data"
        },
        "template": {
         "data": {
          "bar": [
           {
            "error_x": {
             "color": "#2a3f5f"
            },
            "error_y": {
             "color": "#2a3f5f"
            },
            "marker": {
             "line": {
              "color": "#E5ECF6",
              "width": 0.5
             },
             "pattern": {
              "fillmode": "overlay",
              "size": 10,
              "solidity": 0.2
             }
            },
            "type": "bar"
           }
          ],
          "barpolar": [
           {
            "marker": {
             "line": {
              "color": "#E5ECF6",
              "width": 0.5
             },
             "pattern": {
              "fillmode": "overlay",
              "size": 10,
              "solidity": 0.2
             }
            },
            "type": "barpolar"
           }
          ],
          "carpet": [
           {
            "aaxis": {
             "endlinecolor": "#2a3f5f",
             "gridcolor": "white",
             "linecolor": "white",
             "minorgridcolor": "white",
             "startlinecolor": "#2a3f5f"
            },
            "baxis": {
             "endlinecolor": "#2a3f5f",
             "gridcolor": "white",
             "linecolor": "white",
             "minorgridcolor": "white",
             "startlinecolor": "#2a3f5f"
            },
            "type": "carpet"
           }
          ],
          "choropleth": [
           {
            "colorbar": {
             "outlinewidth": 0,
             "ticks": ""
            },
            "type": "choropleth"
           }
          ],
          "contour": [
           {
            "colorbar": {
             "outlinewidth": 0,
             "ticks": ""
            },
            "colorscale": [
             [
              0,
              "#0d0887"
             ],
             [
              0.1111111111111111,
              "#46039f"
             ],
             [
              0.2222222222222222,
              "#7201a8"
             ],
             [
              0.3333333333333333,
              "#9c179e"
             ],
             [
              0.4444444444444444,
              "#bd3786"
             ],
             [
              0.5555555555555556,
              "#d8576b"
             ],
             [
              0.6666666666666666,
              "#ed7953"
             ],
             [
              0.7777777777777778,
              "#fb9f3a"
             ],
             [
              0.8888888888888888,
              "#fdca26"
             ],
             [
              1,
              "#f0f921"
             ]
            ],
            "type": "contour"
           }
          ],
          "contourcarpet": [
           {
            "colorbar": {
             "outlinewidth": 0,
             "ticks": ""
            },
            "type": "contourcarpet"
           }
          ],
          "heatmap": [
           {
            "colorbar": {
             "outlinewidth": 0,
             "ticks": ""
            },
            "colorscale": [
             [
              0,
              "#0d0887"
             ],
             [
              0.1111111111111111,
              "#46039f"
             ],
             [
              0.2222222222222222,
              "#7201a8"
             ],
             [
              0.3333333333333333,
              "#9c179e"
             ],
             [
              0.4444444444444444,
              "#bd3786"
             ],
             [
              0.5555555555555556,
              "#d8576b"
             ],
             [
              0.6666666666666666,
              "#ed7953"
             ],
             [
              0.7777777777777778,
              "#fb9f3a"
             ],
             [
              0.8888888888888888,
              "#fdca26"
             ],
             [
              1,
              "#f0f921"
             ]
            ],
            "type": "heatmap"
           }
          ],
          "heatmapgl": [
           {
            "colorbar": {
             "outlinewidth": 0,
             "ticks": ""
            },
            "colorscale": [
             [
              0,
              "#0d0887"
             ],
             [
              0.1111111111111111,
              "#46039f"
             ],
             [
              0.2222222222222222,
              "#7201a8"
             ],
             [
              0.3333333333333333,
              "#9c179e"
             ],
             [
              0.4444444444444444,
              "#bd3786"
             ],
             [
              0.5555555555555556,
              "#d8576b"
             ],
             [
              0.6666666666666666,
              "#ed7953"
             ],
             [
              0.7777777777777778,
              "#fb9f3a"
             ],
             [
              0.8888888888888888,
              "#fdca26"
             ],
             [
              1,
              "#f0f921"
             ]
            ],
            "type": "heatmapgl"
           }
          ],
          "histogram": [
           {
            "marker": {
             "pattern": {
              "fillmode": "overlay",
              "size": 10,
              "solidity": 0.2
             }
            },
            "type": "histogram"
           }
          ],
          "histogram2d": [
           {
            "colorbar": {
             "outlinewidth": 0,
             "ticks": ""
            },
            "colorscale": [
             [
              0,
              "#0d0887"
             ],
             [
              0.1111111111111111,
              "#46039f"
             ],
             [
              0.2222222222222222,
              "#7201a8"
             ],
             [
              0.3333333333333333,
              "#9c179e"
             ],
             [
              0.4444444444444444,
              "#bd3786"
             ],
             [
              0.5555555555555556,
              "#d8576b"
             ],
             [
              0.6666666666666666,
              "#ed7953"
             ],
             [
              0.7777777777777778,
              "#fb9f3a"
             ],
             [
              0.8888888888888888,
              "#fdca26"
             ],
             [
              1,
              "#f0f921"
             ]
            ],
            "type": "histogram2d"
           }
          ],
          "histogram2dcontour": [
           {
            "colorbar": {
             "outlinewidth": 0,
             "ticks": ""
            },
            "colorscale": [
             [
              0,
              "#0d0887"
             ],
             [
              0.1111111111111111,
              "#46039f"
             ],
             [
              0.2222222222222222,
              "#7201a8"
             ],
             [
              0.3333333333333333,
              "#9c179e"
             ],
             [
              0.4444444444444444,
              "#bd3786"
             ],
             [
              0.5555555555555556,
              "#d8576b"
             ],
             [
              0.6666666666666666,
              "#ed7953"
             ],
             [
              0.7777777777777778,
              "#fb9f3a"
             ],
             [
              0.8888888888888888,
              "#fdca26"
             ],
             [
              1,
              "#f0f921"
             ]
            ],
            "type": "histogram2dcontour"
           }
          ],
          "mesh3d": [
           {
            "colorbar": {
             "outlinewidth": 0,
             "ticks": ""
            },
            "type": "mesh3d"
           }
          ],
          "parcoords": [
           {
            "line": {
             "colorbar": {
              "outlinewidth": 0,
              "ticks": ""
             }
            },
            "type": "parcoords"
           }
          ],
          "pie": [
           {
            "automargin": true,
            "type": "pie"
           }
          ],
          "scatter": [
           {
            "fillpattern": {
             "fillmode": "overlay",
             "size": 10,
             "solidity": 0.2
            },
            "type": "scatter"
           }
          ],
          "scatter3d": [
           {
            "line": {
             "colorbar": {
              "outlinewidth": 0,
              "ticks": ""
             }
            },
            "marker": {
             "colorbar": {
              "outlinewidth": 0,
              "ticks": ""
             }
            },
            "type": "scatter3d"
           }
          ],
          "scattercarpet": [
           {
            "marker": {
             "colorbar": {
              "outlinewidth": 0,
              "ticks": ""
             }
            },
            "type": "scattercarpet"
           }
          ],
          "scattergeo": [
           {
            "marker": {
             "colorbar": {
              "outlinewidth": 0,
              "ticks": ""
             }
            },
            "type": "scattergeo"
           }
          ],
          "scattergl": [
           {
            "marker": {
             "colorbar": {
              "outlinewidth": 0,
              "ticks": ""
             }
            },
            "type": "scattergl"
           }
          ],
          "scattermapbox": [
           {
            "marker": {
             "colorbar": {
              "outlinewidth": 0,
              "ticks": ""
             }
            },
            "type": "scattermapbox"
           }
          ],
          "scatterpolar": [
           {
            "marker": {
             "colorbar": {
              "outlinewidth": 0,
              "ticks": ""
             }
            },
            "type": "scatterpolar"
           }
          ],
          "scatterpolargl": [
           {
            "marker": {
             "colorbar": {
              "outlinewidth": 0,
              "ticks": ""
             }
            },
            "type": "scatterpolargl"
           }
          ],
          "scatterternary": [
           {
            "marker": {
             "colorbar": {
              "outlinewidth": 0,
              "ticks": ""
             }
            },
            "type": "scatterternary"
           }
          ],
          "surface": [
           {
            "colorbar": {
             "outlinewidth": 0,
             "ticks": ""
            },
            "colorscale": [
             [
              0,
              "#0d0887"
             ],
             [
              0.1111111111111111,
              "#46039f"
             ],
             [
              0.2222222222222222,
              "#7201a8"
             ],
             [
              0.3333333333333333,
              "#9c179e"
             ],
             [
              0.4444444444444444,
              "#bd3786"
             ],
             [
              0.5555555555555556,
              "#d8576b"
             ],
             [
              0.6666666666666666,
              "#ed7953"
             ],
             [
              0.7777777777777778,
              "#fb9f3a"
             ],
             [
              0.8888888888888888,
              "#fdca26"
             ],
             [
              1,
              "#f0f921"
             ]
            ],
            "type": "surface"
           }
          ],
          "table": [
           {
            "cells": {
             "fill": {
              "color": "#EBF0F8"
             },
             "line": {
              "color": "white"
             }
            },
            "header": {
             "fill": {
              "color": "#C8D4E3"
             },
             "line": {
              "color": "white"
             }
            },
            "type": "table"
           }
          ]
         },
         "layout": {
          "annotationdefaults": {
           "arrowcolor": "#2a3f5f",
           "arrowhead": 0,
           "arrowwidth": 1
          },
          "autotypenumbers": "strict",
          "coloraxis": {
           "colorbar": {
            "outlinewidth": 0,
            "ticks": ""
           }
          },
          "colorscale": {
           "diverging": [
            [
             0,
             "#8e0152"
            ],
            [
             0.1,
             "#c51b7d"
            ],
            [
             0.2,
             "#de77ae"
            ],
            [
             0.3,
             "#f1b6da"
            ],
            [
             0.4,
             "#fde0ef"
            ],
            [
             0.5,
             "#f7f7f7"
            ],
            [
             0.6,
             "#e6f5d0"
            ],
            [
             0.7,
             "#b8e186"
            ],
            [
             0.8,
             "#7fbc41"
            ],
            [
             0.9,
             "#4d9221"
            ],
            [
             1,
             "#276419"
            ]
           ],
           "sequential": [
            [
             0,
             "#0d0887"
            ],
            [
             0.1111111111111111,
             "#46039f"
            ],
            [
             0.2222222222222222,
             "#7201a8"
            ],
            [
             0.3333333333333333,
             "#9c179e"
            ],
            [
             0.4444444444444444,
             "#bd3786"
            ],
            [
             0.5555555555555556,
             "#d8576b"
            ],
            [
             0.6666666666666666,
             "#ed7953"
            ],
            [
             0.7777777777777778,
             "#fb9f3a"
            ],
            [
             0.8888888888888888,
             "#fdca26"
            ],
            [
             1,
             "#f0f921"
            ]
           ],
           "sequentialminus": [
            [
             0,
             "#0d0887"
            ],
            [
             0.1111111111111111,
             "#46039f"
            ],
            [
             0.2222222222222222,
             "#7201a8"
            ],
            [
             0.3333333333333333,
             "#9c179e"
            ],
            [
             0.4444444444444444,
             "#bd3786"
            ],
            [
             0.5555555555555556,
             "#d8576b"
            ],
            [
             0.6666666666666666,
             "#ed7953"
            ],
            [
             0.7777777777777778,
             "#fb9f3a"
            ],
            [
             0.8888888888888888,
             "#fdca26"
            ],
            [
             1,
             "#f0f921"
            ]
           ]
          },
          "colorway": [
           "#636efa",
           "#EF553B",
           "#00cc96",
           "#ab63fa",
           "#FFA15A",
           "#19d3f3",
           "#FF6692",
           "#B6E880",
           "#FF97FF",
           "#FECB52"
          ],
          "font": {
           "color": "#2a3f5f"
          },
          "geo": {
           "bgcolor": "white",
           "lakecolor": "white",
           "landcolor": "#E5ECF6",
           "showlakes": true,
           "showland": true,
           "subunitcolor": "white"
          },
          "hoverlabel": {
           "align": "left"
          },
          "hovermode": "closest",
          "mapbox": {
           "style": "light"
          },
          "paper_bgcolor": "white",
          "plot_bgcolor": "#E5ECF6",
          "polar": {
           "angularaxis": {
            "gridcolor": "white",
            "linecolor": "white",
            "ticks": ""
           },
           "bgcolor": "#E5ECF6",
           "radialaxis": {
            "gridcolor": "white",
            "linecolor": "white",
            "ticks": ""
           }
          },
          "scene": {
           "xaxis": {
            "backgroundcolor": "#E5ECF6",
            "gridcolor": "white",
            "gridwidth": 2,
            "linecolor": "white",
            "showbackground": true,
            "ticks": "",
            "zerolinecolor": "white"
           },
           "yaxis": {
            "backgroundcolor": "#E5ECF6",
            "gridcolor": "white",
            "gridwidth": 2,
            "linecolor": "white",
            "showbackground": true,
            "ticks": "",
            "zerolinecolor": "white"
           },
           "zaxis": {
            "backgroundcolor": "#E5ECF6",
            "gridcolor": "white",
            "gridwidth": 2,
            "linecolor": "white",
            "showbackground": true,
            "ticks": "",
            "zerolinecolor": "white"
           }
          },
          "shapedefaults": {
           "line": {
            "color": "#2a3f5f"
           }
          },
          "ternary": {
           "aaxis": {
            "gridcolor": "white",
            "linecolor": "white",
            "ticks": ""
           },
           "baxis": {
            "gridcolor": "white",
            "linecolor": "white",
            "ticks": ""
           },
           "bgcolor": "#E5ECF6",
           "caxis": {
            "gridcolor": "white",
            "linecolor": "white",
            "ticks": ""
           }
          },
          "title": {
           "x": 0.05
          },
          "xaxis": {
           "automargin": true,
           "gridcolor": "white",
           "linecolor": "white",
           "ticks": "",
           "title": {
            "standoff": 15
           },
           "zerolinecolor": "white",
           "zerolinewidth": 2
          },
          "yaxis": {
           "automargin": true,
           "gridcolor": "white",
           "linecolor": "white",
           "ticks": "",
           "title": {
            "standoff": 15
           },
           "zerolinecolor": "white",
           "zerolinewidth": 2
          }
         }
        }
       }
      },
      "text/html": [
       "<div>                            <div id=\"4f355c8f-f793-414b-9a5c-a4ba22af06f6\" class=\"plotly-graph-div\" style=\"height:525px; width:100%;\"></div>            <script type=\"text/javascript\">                require([\"plotly\"], function(Plotly) {                    window.PLOTLYENV=window.PLOTLYENV || {};                                    if (document.getElementById(\"4f355c8f-f793-414b-9a5c-a4ba22af06f6\")) {                    Plotly.newPlot(                        \"4f355c8f-f793-414b-9a5c-a4ba22af06f6\",                        [{\"marker\":{\"color\":\"grey\",\"size\":1.5},\"mode\":\"markers\",\"x\":[-526.3374670294841,-533.2887327547322,-540.5088080633997,-497.08382773426473,-584.3197126582404,-548.2852071399511,-709.60975272267,-685.970284221359,-705.5306295174086,-656.0547793987486,-603.5332293580739,-517.2210664581647,-497.3652171116581,-489.64114903877476,-583.6599513036642,-619.0271461396237,-592.2219479629891,-601.2685818568398,-582.1470687212935,-580.8490444752147,-552.5151798360434,-507.6635433332376,-413.5166567566608,-345.5304338458824,-332.23819418112026,-321.4876229730117,-273.7759789385366,-239.54828053914508,-178.1068221377335,-81.4849281532358,-48.99580177058468,-86.56478061918995,-146.88937342238904,-195.5780158126191,-171.12583258084226,-149.92743676321388,-168.24243105861777,-111.00618487195558,-88.09826229728843,-39.91480025586676,92.67118671927518,86.28091113436273,84.23789587323144,94.16961760340223,153.48469183395318,227.46505873719963,264.4596518880404,288.40231163323426,304.642853283691,293.1647176859814,256.83885600091844,248.66127967642853,200.20375284025897,144.63181647947553,143.0309243822221,96.59999818528892,121.20802094367241,81.90469207757188,69.99022968795956,64.43808090149497,48.57903699347713,-1.1541005182463522,-86.02691757084423,-127.94015463332711,-146.88338878157057,-120.5730151017788,-140.59930202751937,-159.3343028367244,-225.873519362259,-274.89042779471856,-132.2227150692588,456.8794421334363,1774.820504688457,4121.135988054771,7803.730488072158],\"y\":[-97.5427385581608,-172.80712496518728,-204.72249791757497,-275.3304234282127,-285.6835694355754,-346.3851393983168,-335.30735309961904,-376.0868258369112,-390.30027012562977,-455.3950626485574,-510.56274309723636,-545.8576937124823,-538.0062796463601,-485.38449882474106,-381.4601235195227,-337.99085504135763,-330.45101045564536,-338.96959721390925,-365.8417432795279,-413.8943072355497,-444.23990175151334,-453.4468335266793,-433.0217358545067,-402.47704702957066,-349.50187693920344,-273.6668536580957,-227.4931063245528,-159.6603939001066,-111.14103388863228,-86.28014043413584,-44.229216601964616,32.18138457180803,109.84907835466548,164.92049819056945,155.1735524053572,147.76450690372542,129.6888179278581,54.88439767519186,44.294228049512974,51.32302451447234,54.51354578626294,150.8893647201444,183.0290286994161,270.97687586828914,307.47528774163817,324.61984396812323,403.757511221894,412.595442742804,451.8588251227418,510.0347523367668,577.0878649581282,608.499872833442,613.7320559221213,602.4645486216666,565.2328328130333,527.9084641540705,463.4797776127537,444.6113056297926,405.3872218093221,377.45980558435485,366.35211326875384,364.43903840975776,365.5273056882491,332.1041187451434,276.306960036732,219.5860329241526,174.63005439480332,130.2960880375191,108.08102132615008,96.25900693052473,41.03386719268248,-118.96199277520739,-338.4024623610463,-524.8106949346537,-464.99617627441353],\"z\":[-1.203649709636636,35.03098306367592,87.98137171903434,111.31434885190606,14.132646261408965,13.27217687538014,-71.98295985528543,13.675897482689692,77.40982289013081,109.14997946475114,55.0713860872666,16.63896648301963,-94.72129231895794,-145.23391044879304,-152.26509359781147,-98.604303182807,37.94175811017088,76.41849212426278,61.3348582057115,23.485058043756695,-31.891571613366466,-32.401486391323786,-18.457850203321357,-42.3331369703329,-126.06720488049297,-136.5573084465126,-106.8110809042308,-60.821285053388415,-38.63426827473926,-10.11087666451695,-84.39855472309401,-145.75303719138327,-136.99597326102202,-67.98150080494224,39.82546116085172,111.00493215214772,56.27786463029722,36.481499609443745,-25.468120523004238,-45.405934712463115,-9.56131904362515,-90.90470895965942,-135.17648583410573,-118.44445303390813,-31.62979223880188,-15.7242897021505,4.34883184364606,-70.12344594431453,-98.24613700738865,-91.24875609884256,-61.457366407759665,0.46812607494953795,17.277128275493546,30.923407789399096,72.62041446897308,69.83686329531152,73.10223863125665,50.29559383343679,23.461065758962363,14.587191284421959,21.788572473527346,2.171786270349781,1.5181229108842587,35.69984889595237,84.22913582110118,117.19340666533259,84.78824851783011,16.508764172775138,-24.408041546013543,-25.26558650893429,94.72471243240396,261.6903094932249,369.7196757769435,249.15217857952973,-226.26234442471423],\"type\":\"scatter3d\"}],                        {\"scene\":{\"aspectmode\":\"data\"},\"template\":{\"data\":{\"histogram2dcontour\":[{\"type\":\"histogram2dcontour\",\"colorbar\":{\"outlinewidth\":0,\"ticks\":\"\"},\"colorscale\":[[0.0,\"#0d0887\"],[0.1111111111111111,\"#46039f\"],[0.2222222222222222,\"#7201a8\"],[0.3333333333333333,\"#9c179e\"],[0.4444444444444444,\"#bd3786\"],[0.5555555555555556,\"#d8576b\"],[0.6666666666666666,\"#ed7953\"],[0.7777777777777778,\"#fb9f3a\"],[0.8888888888888888,\"#fdca26\"],[1.0,\"#f0f921\"]]}],\"choropleth\":[{\"type\":\"choropleth\",\"colorbar\":{\"outlinewidth\":0,\"ticks\":\"\"}}],\"histogram2d\":[{\"type\":\"histogram2d\",\"colorbar\":{\"outlinewidth\":0,\"ticks\":\"\"},\"colorscale\":[[0.0,\"#0d0887\"],[0.1111111111111111,\"#46039f\"],[0.2222222222222222,\"#7201a8\"],[0.3333333333333333,\"#9c179e\"],[0.4444444444444444,\"#bd3786\"],[0.5555555555555556,\"#d8576b\"],[0.6666666666666666,\"#ed7953\"],[0.7777777777777778,\"#fb9f3a\"],[0.8888888888888888,\"#fdca26\"],[1.0,\"#f0f921\"]]}],\"heatmap\":[{\"type\":\"heatmap\",\"colorbar\":{\"outlinewidth\":0,\"ticks\":\"\"},\"colorscale\":[[0.0,\"#0d0887\"],[0.1111111111111111,\"#46039f\"],[0.2222222222222222,\"#7201a8\"],[0.3333333333333333,\"#9c179e\"],[0.4444444444444444,\"#bd3786\"],[0.5555555555555556,\"#d8576b\"],[0.6666666666666666,\"#ed7953\"],[0.7777777777777778,\"#fb9f3a\"],[0.8888888888888888,\"#fdca26\"],[1.0,\"#f0f921\"]]}],\"heatmapgl\":[{\"type\":\"heatmapgl\",\"colorbar\":{\"outlinewidth\":0,\"ticks\":\"\"},\"colorscale\":[[0.0,\"#0d0887\"],[0.1111111111111111,\"#46039f\"],[0.2222222222222222,\"#7201a8\"],[0.3333333333333333,\"#9c179e\"],[0.4444444444444444,\"#bd3786\"],[0.5555555555555556,\"#d8576b\"],[0.6666666666666666,\"#ed7953\"],[0.7777777777777778,\"#fb9f3a\"],[0.8888888888888888,\"#fdca26\"],[1.0,\"#f0f921\"]]}],\"contourcarpet\":[{\"type\":\"contourcarpet\",\"colorbar\":{\"outlinewidth\":0,\"ticks\":\"\"}}],\"contour\":[{\"type\":\"contour\",\"colorbar\":{\"outlinewidth\":0,\"ticks\":\"\"},\"colorscale\":[[0.0,\"#0d0887\"],[0.1111111111111111,\"#46039f\"],[0.2222222222222222,\"#7201a8\"],[0.3333333333333333,\"#9c179e\"],[0.4444444444444444,\"#bd3786\"],[0.5555555555555556,\"#d8576b\"],[0.6666666666666666,\"#ed7953\"],[0.7777777777777778,\"#fb9f3a\"],[0.8888888888888888,\"#fdca26\"],[1.0,\"#f0f921\"]]}],\"surface\":[{\"type\":\"surface\",\"colorbar\":{\"outlinewidth\":0,\"ticks\":\"\"},\"colorscale\":[[0.0,\"#0d0887\"],[0.1111111111111111,\"#46039f\"],[0.2222222222222222,\"#7201a8\"],[0.3333333333333333,\"#9c179e\"],[0.4444444444444444,\"#bd3786\"],[0.5555555555555556,\"#d8576b\"],[0.6666666666666666,\"#ed7953\"],[0.7777777777777778,\"#fb9f3a\"],[0.8888888888888888,\"#fdca26\"],[1.0,\"#f0f921\"]]}],\"mesh3d\":[{\"type\":\"mesh3d\",\"colorbar\":{\"outlinewidth\":0,\"ticks\":\"\"}}],\"scatter\":[{\"fillpattern\":{\"fillmode\":\"overlay\",\"size\":10,\"solidity\":0.2},\"type\":\"scatter\"}],\"parcoords\":[{\"type\":\"parcoords\",\"line\":{\"colorbar\":{\"outlinewidth\":0,\"ticks\":\"\"}}}],\"scatterpolargl\":[{\"type\":\"scatterpolargl\",\"marker\":{\"colorbar\":{\"outlinewidth\":0,\"ticks\":\"\"}}}],\"bar\":[{\"error_x\":{\"color\":\"#2a3f5f\"},\"error_y\":{\"color\":\"#2a3f5f\"},\"marker\":{\"line\":{\"color\":\"#E5ECF6\",\"width\":0.5},\"pattern\":{\"fillmode\":\"overlay\",\"size\":10,\"solidity\":0.2}},\"type\":\"bar\"}],\"scattergeo\":[{\"type\":\"scattergeo\",\"marker\":{\"colorbar\":{\"outlinewidth\":0,\"ticks\":\"\"}}}],\"scatterpolar\":[{\"type\":\"scatterpolar\",\"marker\":{\"colorbar\":{\"outlinewidth\":0,\"ticks\":\"\"}}}],\"histogram\":[{\"marker\":{\"pattern\":{\"fillmode\":\"overlay\",\"size\":10,\"solidity\":0.2}},\"type\":\"histogram\"}],\"scattergl\":[{\"type\":\"scattergl\",\"marker\":{\"colorbar\":{\"outlinewidth\":0,\"ticks\":\"\"}}}],\"scatter3d\":[{\"type\":\"scatter3d\",\"line\":{\"colorbar\":{\"outlinewidth\":0,\"ticks\":\"\"}},\"marker\":{\"colorbar\":{\"outlinewidth\":0,\"ticks\":\"\"}}}],\"scattermapbox\":[{\"type\":\"scattermapbox\",\"marker\":{\"colorbar\":{\"outlinewidth\":0,\"ticks\":\"\"}}}],\"scatterternary\":[{\"type\":\"scatterternary\",\"marker\":{\"colorbar\":{\"outlinewidth\":0,\"ticks\":\"\"}}}],\"scattercarpet\":[{\"type\":\"scattercarpet\",\"marker\":{\"colorbar\":{\"outlinewidth\":0,\"ticks\":\"\"}}}],\"carpet\":[{\"aaxis\":{\"endlinecolor\":\"#2a3f5f\",\"gridcolor\":\"white\",\"linecolor\":\"white\",\"minorgridcolor\":\"white\",\"startlinecolor\":\"#2a3f5f\"},\"baxis\":{\"endlinecolor\":\"#2a3f5f\",\"gridcolor\":\"white\",\"linecolor\":\"white\",\"minorgridcolor\":\"white\",\"startlinecolor\":\"#2a3f5f\"},\"type\":\"carpet\"}],\"table\":[{\"cells\":{\"fill\":{\"color\":\"#EBF0F8\"},\"line\":{\"color\":\"white\"}},\"header\":{\"fill\":{\"color\":\"#C8D4E3\"},\"line\":{\"color\":\"white\"}},\"type\":\"table\"}],\"barpolar\":[{\"marker\":{\"line\":{\"color\":\"#E5ECF6\",\"width\":0.5},\"pattern\":{\"fillmode\":\"overlay\",\"size\":10,\"solidity\":0.2}},\"type\":\"barpolar\"}],\"pie\":[{\"automargin\":true,\"type\":\"pie\"}]},\"layout\":{\"autotypenumbers\":\"strict\",\"colorway\":[\"#636efa\",\"#EF553B\",\"#00cc96\",\"#ab63fa\",\"#FFA15A\",\"#19d3f3\",\"#FF6692\",\"#B6E880\",\"#FF97FF\",\"#FECB52\"],\"font\":{\"color\":\"#2a3f5f\"},\"hovermode\":\"closest\",\"hoverlabel\":{\"align\":\"left\"},\"paper_bgcolor\":\"white\",\"plot_bgcolor\":\"#E5ECF6\",\"polar\":{\"bgcolor\":\"#E5ECF6\",\"angularaxis\":{\"gridcolor\":\"white\",\"linecolor\":\"white\",\"ticks\":\"\"},\"radialaxis\":{\"gridcolor\":\"white\",\"linecolor\":\"white\",\"ticks\":\"\"}},\"ternary\":{\"bgcolor\":\"#E5ECF6\",\"aaxis\":{\"gridcolor\":\"white\",\"linecolor\":\"white\",\"ticks\":\"\"},\"baxis\":{\"gridcolor\":\"white\",\"linecolor\":\"white\",\"ticks\":\"\"},\"caxis\":{\"gridcolor\":\"white\",\"linecolor\":\"white\",\"ticks\":\"\"}},\"coloraxis\":{\"colorbar\":{\"outlinewidth\":0,\"ticks\":\"\"}},\"colorscale\":{\"sequential\":[[0.0,\"#0d0887\"],[0.1111111111111111,\"#46039f\"],[0.2222222222222222,\"#7201a8\"],[0.3333333333333333,\"#9c179e\"],[0.4444444444444444,\"#bd3786\"],[0.5555555555555556,\"#d8576b\"],[0.6666666666666666,\"#ed7953\"],[0.7777777777777778,\"#fb9f3a\"],[0.8888888888888888,\"#fdca26\"],[1.0,\"#f0f921\"]],\"sequentialminus\":[[0.0,\"#0d0887\"],[0.1111111111111111,\"#46039f\"],[0.2222222222222222,\"#7201a8\"],[0.3333333333333333,\"#9c179e\"],[0.4444444444444444,\"#bd3786\"],[0.5555555555555556,\"#d8576b\"],[0.6666666666666666,\"#ed7953\"],[0.7777777777777778,\"#fb9f3a\"],[0.8888888888888888,\"#fdca26\"],[1.0,\"#f0f921\"]],\"diverging\":[[0,\"#8e0152\"],[0.1,\"#c51b7d\"],[0.2,\"#de77ae\"],[0.3,\"#f1b6da\"],[0.4,\"#fde0ef\"],[0.5,\"#f7f7f7\"],[0.6,\"#e6f5d0\"],[0.7,\"#b8e186\"],[0.8,\"#7fbc41\"],[0.9,\"#4d9221\"],[1,\"#276419\"]]},\"xaxis\":{\"gridcolor\":\"white\",\"linecolor\":\"white\",\"ticks\":\"\",\"title\":{\"standoff\":15},\"zerolinecolor\":\"white\",\"automargin\":true,\"zerolinewidth\":2},\"yaxis\":{\"gridcolor\":\"white\",\"linecolor\":\"white\",\"ticks\":\"\",\"title\":{\"standoff\":15},\"zerolinecolor\":\"white\",\"automargin\":true,\"zerolinewidth\":2},\"scene\":{\"xaxis\":{\"backgroundcolor\":\"#E5ECF6\",\"gridcolor\":\"white\",\"linecolor\":\"white\",\"showbackground\":true,\"ticks\":\"\",\"zerolinecolor\":\"white\",\"gridwidth\":2},\"yaxis\":{\"backgroundcolor\":\"#E5ECF6\",\"gridcolor\":\"white\",\"linecolor\":\"white\",\"showbackground\":true,\"ticks\":\"\",\"zerolinecolor\":\"white\",\"gridwidth\":2},\"zaxis\":{\"backgroundcolor\":\"#E5ECF6\",\"gridcolor\":\"white\",\"linecolor\":\"white\",\"showbackground\":true,\"ticks\":\"\",\"zerolinecolor\":\"white\",\"gridwidth\":2}},\"shapedefaults\":{\"line\":{\"color\":\"#2a3f5f\"}},\"annotationdefaults\":{\"arrowcolor\":\"#2a3f5f\",\"arrowhead\":0,\"arrowwidth\":1},\"geo\":{\"bgcolor\":\"white\",\"landcolor\":\"#E5ECF6\",\"subunitcolor\":\"white\",\"showland\":true,\"showlakes\":true,\"lakecolor\":\"white\"},\"title\":{\"x\":0.05},\"mapbox\":{\"style\":\"light\"}}}},                        {\"responsive\": true}                    ).then(function(){\n",
       "                            \n",
       "var gd = document.getElementById('4f355c8f-f793-414b-9a5c-a4ba22af06f6');\n",
       "var x = new MutationObserver(function (mutations, observer) {{\n",
       "        var display = window.getComputedStyle(gd).display;\n",
       "        if (!display || display === 'none') {{\n",
       "            console.log([gd, 'removed!']);\n",
       "            Plotly.purge(gd);\n",
       "            observer.disconnect();\n",
       "        }}\n",
       "}});\n",
       "\n",
       "// Listen for the removal of the full notebook cells\n",
       "var notebookContainer = gd.closest('#notebook-container');\n",
       "if (notebookContainer) {{\n",
       "    x.observe(notebookContainer, {childList: true});\n",
       "}}\n",
       "\n",
       "// Listen for the clearing of the current output cell\n",
       "var outputEl = gd.closest('.output');\n",
       "if (outputEl) {{\n",
       "    x.observe(outputEl, {childList: true});\n",
       "}}\n",
       "\n",
       "                        })                };                });            </script>        </div>"
      ]
     },
     "metadata": {},
     "output_type": "display_data"
    }
   ],
   "source": [
    "#we may not need this to confirm perciodicity \n",
    "\n",
    "pca = PCA(n_components=3)\n",
    "SW_pca = pca.fit(SW).transform(SW)\n",
    "\n",
    "print('Explained Variance', pca.explained_variance_ratio_)\n",
    "\n",
    "fig = go.Figure(data=[go.Scatter3d(\n",
    "    x=SW_pca[:,0], y=SW_pca[:,1], z=SW_pca[:,2], \n",
    "    mode ='markers', \n",
    "    marker=dict(size = 1.5, color = 'grey')\n",
    ")] , layout = go.Layout(scene = dict(aspectmode= 'data')))\n",
    "\n",
    "fig.show()"
   ]
  },
  {
   "cell_type": "code",
   "execution_count": 26,
   "id": "d32fbb7d",
   "metadata": {},
   "outputs": [
    {
     "name": "stdout",
     "output_type": "stream",
     "text": [
      "--- 0.008152246475219727 seconds ---\n"
     ]
    },
    {
     "data": {
      "image/png": "[encoded data removed]",
      "text/plain": [
       "<Figure size 500x500 with 1 Axes>"
      ]
     },
     "metadata": {},
     "output_type": "display_data"
    }
   ],
   "source": [
    "start_time = time.time()\n",
    "rips_persistence = ripser(SW_pca, maxdim=1)\n",
    "print(\"--- %s seconds ---\" % (time.time() - start_time))\n",
    "\n",
    "dgms = rips_persistence['dgms']\n",
    "#plot_barcodes(dgms,1.8);\n",
    "plt.figure(figsize = (5,5)) \n",
    "plot_diagrams(dgms, title='Persistence Diagrams')"
   ]
  },
  {
   "cell_type": "code",
   "execution_count": null,
   "id": "9a3812a8",
   "metadata": {},
   "outputs": [],
   "source": []
  }
 ],
 "metadata": {
  "kernelspec": {
   "display_name": "Python 3 (ipykernel)",
   "language": "python",
   "name": "python3"
  },
  "language_info": {
   "codemirror_mode": {
    "name": "ipython",
    "version": 3
   },
   "file_extension": ".py",
   "mimetype": "text/x-python",
   "name": "python",
   "nbconvert_exporter": "python",
   "pygments_lexer": "ipython3",
   "version": "3.8.16"
  }
 },
 "nbformat": 4,
 "nbformat_minor": 5
}
