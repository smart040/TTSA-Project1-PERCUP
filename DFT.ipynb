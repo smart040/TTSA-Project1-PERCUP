{
 "cells": [
  {
   "cell_type": "code",
   "execution_count": 1,
   "id": "a48513e3-ef9e-4a68-96f2-c24592e498e4",
   "metadata": {},
   "outputs": [],
   "source": [
    "\n",
    "# Perform DFT on the data\n",
    "dft = np.fft.fft(data)\n",
    "# Compute the frequencies\n",
    "sampling_rate = 1\n",
    "n = len(dft)\n",
    "freqs = np.fft.fftfreq(n, 1/sampling_rate)\n",
    "# Shift the x-axis values\n",
    "freqs_shifted = freqs + 0.01\n",
    "\n",
    "# Plot the DFT\n",
    "plt.figure(figsize=(8, 4))\n",
    "plt.plot(freqs_shifted, np.abs(dft))\n",
    "plt.xlabel('Frequency')\n",
    "plt.ylabel('Magnitude')\n",
    "plt.title('Discrete Fourier Transform')\n",
    "plt.xlim(-sampling_rate/32, sampling_rate/32)  \n",
    "y_min = np.min(np.abs(dft))  #Minimum value of the magnitude\n",
    "y_max = np.max(np.abs(dft))  #Maximum value of the magnitude\n",
    "y_margin = 0.1 * (y_max - y_min)  #Margin to add some padding\n",
    "plt.ylim(y_min - y_margin, y_max + y_margin)\n",
    "plt.show()"
   ]
  },
  {
   "cell_type": "code",
   "execution_count": 2,
   "id": "e519a42d-734d-4406-97ae-66f4aa7be185",
   "metadata": {},
   "outputs": [],
   "source": [
    "def compute_max_tau(data, sampling_rate):\n",
    "    dft = np.fft.fft(data)\n",
    "    power_spectrum = np.abs(dft) ** 2\n",
    "    print(power_spectrum)\n",
    "    frequencies = np.fft.fftfreq(len(data), 1.0 / sampling_rate)+0.01\n",
    "    print(frequencies)\n",
    "    max_power_index = np.argmax(power_spectrum)\n",
    "    max_frequency = frequencies[max_power_index]\n",
    "\n",
    "    if max_frequency == 0:\n",
    "        print(\"Cannot compute maximized tau. Maximum frequency is zero.\")\n",
    "        return None\n",
    "\n",
    "    max_tau = 1.0 / max_frequency\n",
    "\n",
    "    return max_tau\n",
    "\n",
    "\n",
    "tau=compute_max_tau(data,1)\n",
    "print(tau)\n"
   ]
  }
 ],
 "metadata": {
  "kernelspec": {
   "display_name": "Python 3 (ipykernel)",
   "language": "python",
   "name": "python3"
  },
  "language_info": {
   "codemirror_mode": {
    "name": "ipython",
    "version": 3
   },
   "file_extension": ".py",
   "mimetype": "text/x-python",
   "name": "python",
   "nbconvert_exporter": "python",
   "pygments_lexer": "ipython3",
   "version": "3.10.9"
  }
 },
 "nbformat": 4,
 "nbformat_minor": 5
}
