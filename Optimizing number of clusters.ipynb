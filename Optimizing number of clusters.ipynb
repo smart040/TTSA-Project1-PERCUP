{
 "cells": [
  {
   "cell_type": "code",
   "execution_count": null,
   "id": "79cb40c7-3400-4452-adde-6288e82df6e6",
   "metadata": {},
   "outputs": [],
   "source": [
    "import numpy as np\n",
    "\n",
    "from sklearn.cluster import KMeans"
   ]
  },
  {
   "cell_type": "code",
   "execution_count": null,
   "id": "2855f6a8-2c53-48d9-85bd-a5f449cd3c29",
   "metadata": {},
   "outputs": [],
   "source": [
    "from sklearn.metrics import silhouette_score\n",
    "import numpy as np\n",
    "\n",
    "# Transpose the data matrix\n",
    "transposed_data = data.T\n",
    "\n",
    "# Define the range of number of clusters to try\n",
    "min_clusters = 50\n",
    "max_clusters = 200\n",
    "\n",
    "# Define the size of the subset\n",
    "subset_size = 5000  # Adjust this to the desired subset size\n",
    "\n",
    "# Randomly sample a subset of the data\n",
    "subset_indices = np.random.choice(transposed_data.shape[0], size=subset_size, replace=False)\n",
    "subset_data = transposed_data[subset_indices]\n",
    "\n",
    "# Initialize variables to store the best silhouette score and the corresponding number of clusters\n",
    "best_score = -1\n",
    "best_n_clusters = -1\n",
    "\n",
    "# Iterate over different numbers of clusters\n",
    "for n_clusters in range(min_clusters, max_clusters+1):\n",
    "    # Fit K-means clustering to the subset data\n",
    "    kmeans = KMeans(n_clusters=n_clusters, random_state=42)\n",
    "    cluster_labels = kmeans.fit_predict(subset_data)\n",
    "    \n",
    "    # Compute the silhouette score for the current clustering\n",
    "    score = silhouette_score(subset_data, cluster_labels)\n",
    "    \n",
    "    # Check if the current silhouette score is better than the previous best score\n",
    "    if score > best_score:\n",
    "        best_score = score\n",
    "        best_n_clusters = n_clusters\n",
    "\n",
    "# Print the best number of clusters and the corresponding silhouette score\n",
    "print(\"Best number of clusters:\", best_n_clusters)\n",
    "print(\"Best silhouette score:\", best_score)"
   ]
  },
  {
   "cell_type": "markdown",
   "id": "bd987dd9-36da-4a6f-8ed8-ef6475390b7e",
   "metadata": {},
   "source": [
    "Best number of clusters for Mickey Mouse: 195"
   ]
  },
  {
   "cell_type": "markdown",
   "id": "d0314a7f-c28f-425b-acc1-6f5e7be0f77f",
   "metadata": {},
   "source": [
    "Best number of clusters for Torus: 188"
   ]
  },
  {
   "cell_type": "code",
   "execution_count": null,
   "id": "3202202f-6f46-4fb3-908d-f65bd0f3adcd",
   "metadata": {},
   "outputs": [],
   "source": []
  }
 ],
 "metadata": {
  "kernelspec": {
   "display_name": "Python 3",
   "language": "python",
   "name": "python3"
  },
  "language_info": {
   "codemirror_mode": {
    "name": "ipython",
    "version": 3
   },
   "file_extension": ".py",
   "mimetype": "text/x-python",
   "name": "python",
   "nbconvert_exporter": "python",
   "pygments_lexer": "ipython3",
   "version": "3.8.8"
  }
 },
 "nbformat": 4,
 "nbformat_minor": 5
}
